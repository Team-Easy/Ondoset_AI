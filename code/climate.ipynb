{
 "cells": [
  {
   "cell_type": "code",
   "execution_count": 58,
   "metadata": {},
   "outputs": [],
   "source": [
    "import pandas as pd\n",
    "import numpy as np\n",
    "import matplotlib.pyplot as plt\n",
    "import seaborn as sns\n",
    "from sklearn.preprocessing import MultiLabelBinarizer\n",
    "import re\n",
    "from sklearn.feature_extraction.text import CountVectorizer\n",
    "import tensorflow as tf\n",
    "import keras\n",
    "from sklearn.metrics.pairwise import cosine_similarity\n",
    "from sklearn.preprocessing import StandardScaler\n",
    "import requests\n",
    "from xml.etree import ElementTree as ET\n",
    "from datetime import datetime"
   ]
  },
  {
   "cell_type": "code",
   "execution_count": 59,
   "metadata": {},
   "outputs": [],
   "source": [
    "userId = 1\n",
    "lat = 60\n",
    "lon = 127\n",
    "date = 1713193200"
   ]
  },
  {
   "cell_type": "code",
   "execution_count": 60,
   "metadata": {},
   "outputs": [],
   "source": [
    "# epoch time을 datetime 형식으로 변환\n",
    "def epoch_to_datetime(epoch_time):\n",
    "    return datetime.fromtimestamp(epoch_time)"
   ]
  },
  {
   "cell_type": "code",
   "execution_count": 61,
   "metadata": {},
   "outputs": [],
   "source": [
    "# datetime을 epoch time으로 변환\n",
    "def datetime_to_epoch(datetime_time):\n",
    "    return int(datetime_time.timestamp())"
   ]
  },
  {
   "cell_type": "code",
   "execution_count": 62,
   "metadata": {},
   "outputs": [],
   "source": [
    "datetime = epoch_to_datetime(date)\n",
    "# datetime에서 년월일 형식으로 변환\n",
    "today = datetime.strftime('%Y%m%d')"
   ]
  },
  {
   "cell_type": "code",
   "execution_count": 63,
   "metadata": {},
   "outputs": [],
   "source": [
    "# Today's date\n",
    "today = datetime.today().strftime(\"%Y%m%d\")"
   ]
  },
  {
   "cell_type": "code",
   "execution_count": 72,
   "metadata": {},
   "outputs": [
    {
     "data": {
      "text/plain": [
       "'print(f\"Today\\'s average temperature: {avg_temp}\")\\nprint(f\"Today\\'s minimum temperature: {min_temp}\")\\nprint(f\"Today\\'s maximum temperature: {max_temp}\")\\nprint(f\"Is it raining today? {\\'Yes\\' if rain else \\'No\\'}\")\\nprint(f\"Today\\'s average wind speed: {avg_wind}\")\\nprint(f\"Today\\'s average humidity: {avg_humidity}\")'"
      ]
     },
     "execution_count": 72,
     "metadata": {},
     "output_type": "execute_result"
    }
   ],
   "source": [
    "# API endpoint\n",
    "url = \"http://apis.data.go.kr/1360000/VilageFcstInfoService_2.0/getVilageFcst\"\n",
    "\n",
    "# API key\n",
    "service_key = \"2tvkzWa/Da5wAH2C4F09CShggc7fixR0Jowlz4jhXWSCwlVk+AbL2Yxt7QmsCKRf0ijOA0IxzzNPHTQeLhxixQ==\"\n",
    "\n",
    "# Parameters\n",
    "params = {\n",
    "    \"serviceKey\": service_key,\n",
    "    \"numOfRows\": 100,  # Increase the number of rows to get more temperature data\n",
    "    \"pageNo\": 1,\n",
    "    \"dataType\": \"XML\",\n",
    "    \"base_date\": today,\n",
    "    \"base_time\": \"0200\",\n",
    "    \"nx\": lat,\n",
    "    \"ny\": lon \n",
    "}\n",
    "\n",
    "# Send request\n",
    "response = requests.get(url, params=params)\n",
    "'''print(response.content)'''\n",
    "\n",
    "# Parse XML response\n",
    "root = ET.fromstring(response.content)\n",
    "\n",
    "# Find temperature data\n",
    "temps = [float(item.find('fcstValue').text) for item in root.iter('item') if item.find('category').text == 'TMP']\n",
    "rain = [float(item.find('fcstValue').text) for item in root.iter('item') if item.find('category').text == 'PTY']\n",
    "wind = [float(item.find('fcstValue').text) for item in root.iter('item') if item.find('category').text == 'WSD']\n",
    "humidity = [float(item.find('fcstValue').text) for item in root.iter('item') if item.find('category').text == 'REH']\n",
    "\n",
    "# Calculate average temperature\n",
    "avg_temp = sum(temps) / len(temps)\n",
    "min_temp = min(temps)\n",
    "max_temp = max(temps)\n",
    "rain = any(r > 0 for r in rain)\n",
    "avg_wind = sum(wind) / len(wind)\n",
    "avg_humidity = sum(humidity) / len(humidity)\n",
    "\n",
    "'''print(f\"Today's average temperature: {avg_temp}\")\n",
    "print(f\"Today's minimum temperature: {min_temp}\")\n",
    "print(f\"Today's maximum temperature: {max_temp}\")\n",
    "print(f\"Is it raining today? {'Yes' if rain else 'No'}\")\n",
    "print(f\"Today's average wind speed: {avg_wind}\")\n",
    "print(f\"Today's average humidity: {avg_humidity}\")'''"
   ]
  },
  {
   "cell_type": "code",
   "execution_count": 65,
   "metadata": {},
   "outputs": [],
   "source": [
    "# csv 파일을 dataframe으로 변환\n",
    "df_outfit = pd.read_csv('../data/outfit(male)/outfit(male).csv')\n",
    "df_weather = pd.read_csv('../data/2022-08-01_to_2024-04-30.csv', encoding='cp949')\n",
    "# 필요한 columns만 추출\n",
    "df_outfit = df_outfit[['userId', '상의', '아우터', '하의', '신발', '액세서리', '작성일']].copy()\n",
    "df_temp = df_weather[['일시', '평균기온(°C)', '최저기온(°C)', '최고기온(°C)', '강수 계속시간(hr)', '평균 풍속(m/s)', '평균 상대습도(%)']].copy()\n",
    "\n",
    "# '작성일'과 '일시' 열을 datetime 형식으로 변환\n",
    "df_outfit['작성일'] = pd.to_datetime(df_outfit['작성일'], format='%Y년 %m월 %d일')\n",
    "df_temp['일시'] = pd.to_datetime(df_temp['일시'])\n",
    "\n",
    "# 두 dataframe을 날짜를 기준으로 병합\n",
    "df_merged = pd.merge(df_outfit, df_temp, left_on='작성일', right_on='일시').drop('일시', axis=1)"
   ]
  },
  {
   "cell_type": "code",
   "execution_count": 66,
   "metadata": {},
   "outputs": [],
   "source": [
    "# 평균기온(°C), 최저기온(°C), 최고기온(°C), 강수 계속시간(hr), 평균 풍속(m/s), 평균 상대습도(%) 열의 결측치를 0으로 대체\n",
    "df_notnull = df_merged.copy()\n",
    "w_columns = ['평균기온(°C)', '최저기온(°C)', '최고기온(°C)', '강수 계속시간(hr)', '평균 풍속(m/s)', '평균 상대습도(%)']\n",
    "df_notnull[w_columns] = df_notnull[w_columns].fillna(0)\n",
    "df_notnull['강수 계속시간(hr)'] = df_notnull['강수 계속시간(hr)'].apply(lambda x: 1 if x > 0 else 0)"
   ]
  },
  {
   "cell_type": "code",
   "execution_count": 67,
   "metadata": {},
   "outputs": [],
   "source": [
    "df_fill = df_notnull.copy()\n",
    "# '상의', '아우터', '하의', '신발', '엑세서리' 열의 결측값을 '~ 없음'으로 대체\n",
    "o_columns = ['상의', '아우터', '하의', '신발', '액세서리']\n",
    "for column in o_columns:\n",
    "    df_fill[column] = df_notnull[column].fillna(column + ' 없음')"
   ]
  },
  {
   "cell_type": "code",
   "execution_count": 68,
   "metadata": {},
   "outputs": [],
   "source": [
    "# 평균기온(°C), 최저기온(°C), 최고기온(°C), 강수 계속시간(hr), 평균 풍속(m/s), 평균 상대습도(%) 열을 표준화\n",
    "scaler = StandardScaler()\n",
    "df_scaled = df_fill.copy()\n",
    "df_scaled[w_columns] = scaler.fit_transform(df_notnull[w_columns])"
   ]
  },
  {
   "cell_type": "code",
   "execution_count": 69,
   "metadata": {},
   "outputs": [],
   "source": [
    "# 현재 날씨를 입력 하고 변환을 적용\t\t\t\n",
    "df_today = pd.DataFrame(columns=['평균기온(°C)', '최저기온(°C)', '최고기온(°C)', '강수 계속시간(hr)', '평균 풍속(m/s)', '평균 상대습도(%)'])\n",
    "# 13.3\t12.2\t15\t16.17\t3\t77.3로 초기화\n",
    "df_today.loc[0] = [avg_temp, min_temp, max_temp, rain, avg_wind, avg_humidity]\n",
    "df_today[w_columns] = df_today[w_columns].fillna(0)\n",
    "df_today['강수 계속시간(hr)'] = df_today['강수 계속시간(hr)'].apply(lambda x: 1 if x > 0 else 0)\n",
    "# 표준화 적용\n",
    "df_today[w_columns] = scaler.transform(df_today)"
   ]
  },
  {
   "cell_type": "code",
   "execution_count": 78,
   "metadata": {},
   "outputs": [
    {
     "data": {
      "text/plain": [
       "array([[-0.88680702],\n",
       "       [ 0.66787659],\n",
       "       [-0.638717  ],\n",
       "       ...,\n",
       "       [ 0.69243164],\n",
       "       [ 0.86427886],\n",
       "       [ 0.82157327]])"
      ]
     },
     "execution_count": 78,
     "metadata": {},
     "output_type": "execute_result"
    }
   ],
   "source": [
    "# 전체 데이터에서 날씨 유사도를 계산\n",
    "all_similarity = cosine_similarity(df_scaled[w_columns], df_today[w_columns])"
   ]
  },
  {
   "cell_type": "code",
   "execution_count": 91,
   "metadata": {},
   "outputs": [
    {
     "name": "stdout",
     "output_type": "stream",
     "text": [
      "0.8638426714774705\n",
      "0.8638426714774705\n",
      "0.9694048570414621\n"
     ]
    }
   ],
   "source": [
    "# 각 userid마다 현재 날씨와 기록된 날씨의 cosine similarity를 계산하고 각 userid마다 가장 높은 similarity를 가지는 3개의 row를 추출\n",
    "user_ids = df_fill['userId'].unique()\n",
    "similarities = []\n",
    "indices = []\n",
    "df_user = df_scaled[df_scaled['userId'] == userId]\n",
    "df_user = df_user[w_columns]\n",
    "df_user = pd.concat([df_today, df_user])\n",
    "similarity = cosine_similarity(df_user)\n",
    "similarities.append(similarity[0][1:])\n",
    "# 3개의 row index를 추출\n",
    "index = np.argsort(similarity[0][1:])[-3:]\n",
    "# all_similarity를 기준으로 75% quantiles값 이상이 되지 않는다면 해당 값을 index에서 제거\n",
    "if np.quantile(all_similarity, 0.9) > similarity[0][1:][index[0]]:\n",
    "    index = index[1:]\n",
    "    if np.quantile(all_similarity, 0.9) > similarity[0][1:][index[0]]:\n",
    "        index = index[1:]\n",
    "        if np.quantile(all_similarity, 0.9) > similarity[0][1:][index[0]]:\n",
    "            index = []\n",
    "# index의 similarity 값 확인\n",
    "for i in index:\n",
    "    print(similarity[0][1:][i])\n",
    "indices.append(index)"
   ]
  },
  {
   "cell_type": "code",
   "execution_count": 90,
   "metadata": {},
   "outputs": [
    {
     "data": {
      "text/plain": [
       "0.9815558308093073"
      ]
     },
     "execution_count": 90,
     "metadata": {},
     "output_type": "execute_result"
    }
   ],
   "source": [
    "np.quantile(all_similarity, 0.999)"
   ]
  },
  {
   "cell_type": "code",
   "execution_count": 82,
   "metadata": {},
   "outputs": [
    {
     "data": {
      "text/plain": [
       "0.7064449016066456"
      ]
     },
     "execution_count": 82,
     "metadata": {},
     "output_type": "execute_result"
    },
    {
     "data": {
      "image/png": "[encoded data removed]",
      "text/plain": [
       "<Figure size 640x480 with 1 Axes>"
      ]
     },
     "metadata": {},
     "output_type": "display_data"
    }
   ],
   "source": [
    "#similarity를 boxplot으로 보여줌\n",
    "plt.boxplot(all_similarity)\n",
    "np.quantile(all_similarity, 0.90)"
   ]
  },
  {
   "cell_type": "code",
   "execution_count": 71,
   "metadata": {},
   "outputs": [
    {
     "name": "stdout",
     "output_type": "stream",
     "text": [
      "[1698624000, 1698624000, 1681430400]\n"
     ]
    },
    {
     "name": "stderr",
     "output_type": "stream",
     "text": [
      "/tmp/ipykernel_108709/3123101736.py:5: FutureWarning: The behavior of DataFrame concatenation with empty or all-NA entries is deprecated. In a future version, this will no longer exclude empty or all-NA columns when determining the result dtypes. To retain the old behavior, exclude the relevant entries before the concat operation.\n",
      "  df_recommend = pd.concat([df_recommend, df_user])\n"
     ]
    }
   ],
   "source": [
    "# user마다 가장 높은 similarity를 가지는 3개의 row를 df_fill에서 추출\n",
    "df_recommend = pd.DataFrame(columns=df_fill.columns)\n",
    "df_user = df_fill[df_fill['userId'] == userId]\n",
    "df_user = df_user.iloc[index]\n",
    "df_recommend = pd.concat([df_recommend, df_user])\n",
    "# 작성일 column의 값을 epoch time의 배열로 저장\n",
    "recommend_dates = []\n",
    "for date in df_recommend['작성일']:\n",
    "    recommend_dates.append(datetime_to_epoch(date))\n",
    "print(recommend_dates)"
   ]
  }
 ],
 "metadata": {
  "kernelspec": {
   "display_name": "ondoset",
   "language": "python",
   "name": "python3"
  },
  "language_info": {
   "codemirror_mode": {
    "name": "ipython",
    "version": 3
   },
   "file_extension": ".py",
   "mimetype": "text/x-python",
   "name": "python",
   "nbconvert_exporter": "python",
   "pygments_lexer": "ipython3",
   "version": "3.9.18"
  }
 },
 "nbformat": 4,
 "nbformat_minor": 2
}
