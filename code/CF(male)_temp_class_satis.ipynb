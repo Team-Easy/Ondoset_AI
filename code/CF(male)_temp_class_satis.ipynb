{
 "cells": [
  {
   "cell_type": "code",
   "execution_count": 24,
   "metadata": {},
   "outputs": [],
   "source": [
    "import pandas as pd\n",
    "import numpy as np\n",
    "import matplotlib.pyplot as plt\n",
    "import seaborn as sns\n",
    "from sklearn.preprocessing import MultiLabelBinarizer\n",
    "import re\n",
    "from sklearn.feature_extraction.text import CountVectorizer\n",
    "import tensorflow as tf\n",
    "import keras\n",
    "from sklearn.model_selection import train_test_split\n",
    "import os"
   ]
  },
  {
   "cell_type": "code",
   "execution_count": null,
   "metadata": {},
   "outputs": [],
   "source": [
    "import requests\n",
    "from xml.etree import ElementTree as ET\n",
    "from datetime import datetime\n",
    "\n",
    "# API endpoint\n",
    "url = \"http://apis.data.go.kr/1360000/VilageFcstInfoService/getVilageFcst\"\n",
    "\n",
    "# API key\n",
    "service_key = \"2tvkzWa%2FDa5wAH2C4F09CShggc7fixR0Jowlz4jhXWSCwlVk%2BAbL2Yxt7QmsCKRf0ijOA0IxzzNPHTQeLhxixQ%3D%3D\"\n",
    "\n",
    "# Today's date\n",
    "today = datetime.today().strftime(\"%Y%m%d\")\n",
    "\n",
    "# Parameters\n",
    "params = {\n",
    "    \"serviceKey\": service_key,\n",
    "    \"numOfRows\": 10,\n",
    "    \"pageNo\": 1,\n",
    "    \"dataType\": \"XML\",\n",
    "    \"base_date\": today,\n",
    "    \"base_time\": \"0500\",\n",
    "    \"nx\": \"60\",  # Seoul's grid x\n",
    "    \"ny\": \"127\"  # Seoul's grid y\n",
    "}\n",
    "\n",
    "# Send request\n",
    "response = requests.get(url, params=params)\n",
    "\n",
    "# Parse XML response\n",
    "root = ET.fromstring(response.content)\n",
    "\n",
    "# Find temperature data\n",
    "temps = [float(item.find('fcstValue').text) for item in root.iter('item') if item.find('category').text == 'T3H']\n",
    "\n",
    "# Calculate average temperature\n",
    "avg_temp = sum(temps) / len(temps)"
   ]
  },
  {
   "cell_type": "code",
   "execution_count": 2,
   "metadata": {},
   "outputs": [],
   "source": [
    "user_id = 1\n",
    "today = 21.5\n",
    "items_id = \"2, 17, 28, 36, 45, 51\""
   ]
  },
  {
   "cell_type": "code",
   "execution_count": 3,
   "metadata": {},
   "outputs": [
    {
     "data": {
      "text/plain": [
       "'df_merged'"
      ]
     },
     "execution_count": 3,
     "metadata": {},
     "output_type": "execute_result"
    }
   ],
   "source": [
    "# csv 파일을 dataframe으로 변환\n",
    "df_outfit = pd.read_csv('../data/outfit(male)/outfit(male).csv')\n",
    "df_weather = pd.read_csv('../data/2022-08-01_to_2024-04-30.csv', encoding='cp949')\n",
    "# 필요한 columns만 추출\n",
    "df_outfit = df_outfit[['userId', '상의', '아우터', '하의', '신발', '액세서리', '작성일']].copy()\n",
    "df_temp = df_weather[['일시', '평균기온(°C)']].copy()\n",
    "\n",
    "# '작성일'과 '일시' 열을 datetime 형식으로 변환\n",
    "df_outfit['작성일'] = pd.to_datetime(df_outfit['작성일'], format='%Y년 %m월 %d일')\n",
    "df_temp['일시'] = pd.to_datetime(df_temp['일시'])\n",
    "\n",
    "# 두 dataframe을 날짜를 기준으로 병합\n",
    "df_merged = pd.merge(df_outfit, df_temp, left_on='작성일', right_on='일시').drop('일시', axis=1)\n",
    "\n",
    "'''df_merged'''"
   ]
  },
  {
   "cell_type": "code",
   "execution_count": 4,
   "metadata": {},
   "outputs": [],
   "source": [
    "# 평균기온(°C) column의 최대값과 최솟값\n",
    "max_temp = df_merged['평균기온(°C)'].max()\n",
    "min_temp = df_merged['평균기온(°C)'].min()"
   ]
  },
  {
   "cell_type": "code",
   "execution_count": 5,
   "metadata": {},
   "outputs": [],
   "source": [
    "bins=np.round(np.arange(min_temp -5, max_temp+5, 5), 1)\n",
    "labels=np.arange(0, (max_temp-min_temp)//5+2)\n",
    "today_class = pd.cut([today], bins=bins, labels=labels).astype('float64')"
   ]
  },
  {
   "cell_type": "code",
   "execution_count": 6,
   "metadata": {},
   "outputs": [
    {
     "data": {
      "text/plain": [
       "array([7.])"
      ]
     },
     "execution_count": 6,
     "metadata": {},
     "output_type": "execute_result"
    }
   ],
   "source": [
    "today_class"
   ]
  },
  {
   "cell_type": "code",
   "execution_count": 10,
   "metadata": {},
   "outputs": [],
   "source": [
    "path = f'../data/satisfaction/CF/male/user_{user_id}/satifaction.csv'\n",
    "\n",
    "df_satisfaction = pd.read_csv(path)"
   ]
  },
  {
   "cell_type": "code",
   "execution_count": 14,
   "metadata": {},
   "outputs": [
    {
     "data": {
      "text/html": [
       "<div>\n",
       "<style scoped>\n",
       "    .dataframe tbody tr th:only-of-type {\n",
       "        vertical-align: middle;\n",
       "    }\n",
       "\n",
       "    .dataframe tbody tr th {\n",
       "        vertical-align: top;\n",
       "    }\n",
       "\n",
       "    .dataframe thead th {\n",
       "        text-align: right;\n",
       "    }\n",
       "</style>\n",
       "<table border=\"1\" class=\"dataframe\">\n",
       "  <thead>\n",
       "    <tr style=\"text-align: right;\">\n",
       "      <th></th>\n",
       "      <th>옷 id</th>\n",
       "      <th>예측값</th>\n",
       "    </tr>\n",
       "  </thead>\n",
       "  <tbody>\n",
       "    <tr>\n",
       "      <th>0</th>\n",
       "      <td>2, 17, 28, 36, 45, 51</td>\n",
       "      <td>4.0</td>\n",
       "    </tr>\n",
       "    <tr>\n",
       "      <th>1</th>\n",
       "      <td>2, 17, 28, 29, 36, 45</td>\n",
       "      <td>5.0</td>\n",
       "    </tr>\n",
       "    <tr>\n",
       "      <th>2</th>\n",
       "      <td>1, 14, 28, 36, 45</td>\n",
       "      <td>6.0</td>\n",
       "    </tr>\n",
       "    <tr>\n",
       "      <th>3</th>\n",
       "      <td>2, 14, 28, 36</td>\n",
       "      <td>5.0</td>\n",
       "    </tr>\n",
       "    <tr>\n",
       "      <th>4</th>\n",
       "      <td>2, 14, 28, 29, 36</td>\n",
       "      <td>3.0</td>\n",
       "    </tr>\n",
       "    <tr>\n",
       "      <th>...</th>\n",
       "      <td>...</td>\n",
       "      <td>...</td>\n",
       "    </tr>\n",
       "    <tr>\n",
       "      <th>691</th>\n",
       "      <td>6, 18, 25, 35</td>\n",
       "      <td>3.0</td>\n",
       "    </tr>\n",
       "    <tr>\n",
       "      <th>692</th>\n",
       "      <td>6, 17, 25, 35</td>\n",
       "      <td>4.0</td>\n",
       "    </tr>\n",
       "    <tr>\n",
       "      <th>693</th>\n",
       "      <td>6, 17, 27, 35</td>\n",
       "      <td>3.0</td>\n",
       "    </tr>\n",
       "    <tr>\n",
       "      <th>694</th>\n",
       "      <td>6, 18, 34</td>\n",
       "      <td>4.0</td>\n",
       "    </tr>\n",
       "    <tr>\n",
       "      <th>695</th>\n",
       "      <td>6, 18, 32, 34</td>\n",
       "      <td>0.9</td>\n",
       "    </tr>\n",
       "  </tbody>\n",
       "</table>\n",
       "<p>696 rows × 2 columns</p>\n",
       "</div>"
      ],
      "text/plain": [
       "                      옷 id  예측값\n",
       "0    2, 17, 28, 36, 45, 51  4.0\n",
       "1    2, 17, 28, 29, 36, 45  5.0\n",
       "2        1, 14, 28, 36, 45  6.0\n",
       "3            2, 14, 28, 36  5.0\n",
       "4        2, 14, 28, 29, 36  3.0\n",
       "..                     ...  ...\n",
       "691          6, 18, 25, 35  3.0\n",
       "692          6, 17, 25, 35  4.0\n",
       "693          6, 17, 27, 35  3.0\n",
       "694              6, 18, 34  4.0\n",
       "695          6, 18, 32, 34  0.9\n",
       "\n",
       "[696 rows x 2 columns]"
      ]
     },
     "execution_count": 14,
     "metadata": {},
     "output_type": "execute_result"
    }
   ],
   "source": [
    "df_satisfaction"
   ]
  },
  {
   "cell_type": "code",
   "execution_count": 22,
   "metadata": {},
   "outputs": [
    {
     "data": {
      "text/plain": [
       "array([3.])"
      ]
     },
     "execution_count": 22,
     "metadata": {},
     "output_type": "execute_result"
    }
   ],
   "source": [
    "item_satis = df_satisfaction[df_satisfaction['옷 id'] == \"2, 17, 28, 36, 45, 51\"]['예측값'].values\n",
    "pred_satis = today_class - item_satis\n",
    "pred_satis"
   ]
  },
  {
   "cell_type": "code",
   "execution_count": 23,
   "metadata": {},
   "outputs": [
    {
     "name": "stdout",
     "output_type": "stream",
     "text": [
      "VERY_HOT\n"
     ]
    }
   ],
   "source": [
    "if pred_satis >= 2:\n",
    "    print(\"VERY_HOT\")\n",
    "elif pred_satis >= 1 and pred_satis < 2:\n",
    "    print(\"HOT\")\n",
    "elif pred_satis >= -1 and pred_satis < 1:\n",
    "    print(\"NORMAL\")\n",
    "elif pred_satis >= -2 and pred_satis < -1:\n",
    "    print(\"COLD\")\n",
    "else:\n",
    "    print(\"VERY_COLD\")"
   ]
  }
 ],
 "metadata": {
  "kernelspec": {
   "display_name": "ondoset",
   "language": "python",
   "name": "python3"
  },
  "language_info": {
   "codemirror_mode": {
    "name": "ipython",
    "version": 3
   },
   "file_extension": ".py",
   "mimetype": "text/x-python",
   "name": "python",
   "nbconvert_exporter": "python",
   "pygments_lexer": "ipython3",
   "version": "3.9.18"
  }
 },
 "nbformat": 4,
 "nbformat_minor": 2
}
