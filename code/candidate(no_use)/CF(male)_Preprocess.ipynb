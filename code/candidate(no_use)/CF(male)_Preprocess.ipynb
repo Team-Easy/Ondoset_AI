{
 "cells": [
  {
   "cell_type": "code",
   "execution_count": 2,
   "metadata": {},
   "outputs": [
    {
     "name": "stderr",
     "output_type": "stream",
     "text": [
      "2024-05-05 22:59:02.795717: I tensorflow/core/util/port.cc:113] oneDNN custom operations are on. You may see slightly different numerical results due to floating-point round-off errors from different computation orders. To turn them off, set the environment variable `TF_ENABLE_ONEDNN_OPTS=0`.\n",
      "2024-05-05 22:59:02.896295: E external/local_xla/xla/stream_executor/cuda/cuda_dnn.cc:9261] Unable to register cuDNN factory: Attempting to register factory for plugin cuDNN when one has already been registered\n",
      "2024-05-05 22:59:02.896411: E external/local_xla/xla/stream_executor/cuda/cuda_fft.cc:607] Unable to register cuFFT factory: Attempting to register factory for plugin cuFFT when one has already been registered\n",
      "2024-05-05 22:59:02.910461: E external/local_xla/xla/stream_executor/cuda/cuda_blas.cc:1515] Unable to register cuBLAS factory: Attempting to register factory for plugin cuBLAS when one has already been registered\n",
      "2024-05-05 22:59:02.955839: I tensorflow/core/platform/cpu_feature_guard.cc:182] This TensorFlow binary is optimized to use available CPU instructions in performance-critical operations.\n",
      "To enable the following instructions: AVX2 AVX_VNNI FMA, in other operations, rebuild TensorFlow with the appropriate compiler flags.\n",
      "2024-05-05 22:59:03.720119: W tensorflow/compiler/tf2tensorrt/utils/py_utils.cc:38] TF-TRT Warning: Could not find TensorRT\n"
     ]
    }
   ],
   "source": [
    "import pandas as pd\n",
    "import numpy as np\n",
    "import matplotlib.pyplot as plt\n",
    "import seaborn as sns\n",
    "from sklearn.preprocessing import MultiLabelBinarizer\n",
    "import re\n",
    "from sklearn.feature_extraction.text import CountVectorizer\n",
    "import tensorflow as tf\n",
    "import keras\n",
    "import cdsapi"
   ]
  },
  {
   "cell_type": "code",
   "execution_count": 3,
   "metadata": {},
   "outputs": [
    {
     "data": {
      "text/html": [
       "<div>\n",
       "<style scoped>\n",
       "    .dataframe tbody tr th:only-of-type {\n",
       "        vertical-align: middle;\n",
       "    }\n",
       "\n",
       "    .dataframe tbody tr th {\n",
       "        vertical-align: top;\n",
       "    }\n",
       "\n",
       "    .dataframe thead th {\n",
       "        text-align: right;\n",
       "    }\n",
       "</style>\n",
       "<table border=\"1\" class=\"dataframe\">\n",
       "  <thead>\n",
       "    <tr style=\"text-align: right;\">\n",
       "      <th></th>\n",
       "      <th>userId</th>\n",
       "      <th>상의</th>\n",
       "      <th>아우터</th>\n",
       "      <th>하의</th>\n",
       "      <th>신발</th>\n",
       "      <th>액세서리</th>\n",
       "      <th>작성일</th>\n",
       "      <th>평균기온(°C)</th>\n",
       "    </tr>\n",
       "  </thead>\n",
       "  <tbody>\n",
       "    <tr>\n",
       "      <th>0</th>\n",
       "      <td>1</td>\n",
       "      <td>반팔 티, 셔츠/블라우스</td>\n",
       "      <td>재킷</td>\n",
       "      <td>반바지</td>\n",
       "      <td>구두/로퍼</td>\n",
       "      <td>NaN</td>\n",
       "      <td>2024-04-24</td>\n",
       "      <td>13.2</td>\n",
       "    </tr>\n",
       "    <tr>\n",
       "      <th>1</th>\n",
       "      <td>1</td>\n",
       "      <td>반팔 티</td>\n",
       "      <td>재킷</td>\n",
       "      <td>반바지</td>\n",
       "      <td>운동화</td>\n",
       "      <td>기타 모자</td>\n",
       "      <td>2024-04-19</td>\n",
       "      <td>17.6</td>\n",
       "    </tr>\n",
       "    <tr>\n",
       "      <th>2</th>\n",
       "      <td>1</td>\n",
       "      <td>반팔 티</td>\n",
       "      <td>재킷</td>\n",
       "      <td>반바지</td>\n",
       "      <td>구두/로퍼</td>\n",
       "      <td>장목양말</td>\n",
       "      <td>2024-04-15</td>\n",
       "      <td>16.0</td>\n",
       "    </tr>\n",
       "    <tr>\n",
       "      <th>3</th>\n",
       "      <td>1</td>\n",
       "      <td>반팔 티</td>\n",
       "      <td>NaN</td>\n",
       "      <td>나일론 팬츠</td>\n",
       "      <td>구두/로퍼</td>\n",
       "      <td>NaN</td>\n",
       "      <td>2024-04-09</td>\n",
       "      <td>15.3</td>\n",
       "    </tr>\n",
       "    <tr>\n",
       "      <th>4</th>\n",
       "      <td>1</td>\n",
       "      <td>반팔 티</td>\n",
       "      <td>집업</td>\n",
       "      <td>면바지</td>\n",
       "      <td>구두/로퍼</td>\n",
       "      <td>NaN</td>\n",
       "      <td>2024-04-05</td>\n",
       "      <td>14.0</td>\n",
       "    </tr>\n",
       "    <tr>\n",
       "      <th>...</th>\n",
       "      <td>...</td>\n",
       "      <td>...</td>\n",
       "      <td>...</td>\n",
       "      <td>...</td>\n",
       "      <td>...</td>\n",
       "      <td>...</td>\n",
       "      <td>...</td>\n",
       "      <td>...</td>\n",
       "    </tr>\n",
       "    <tr>\n",
       "      <th>1333</th>\n",
       "      <td>14</td>\n",
       "      <td>반팔 티</td>\n",
       "      <td>NaN</td>\n",
       "      <td>반바지</td>\n",
       "      <td>운동화</td>\n",
       "      <td>기타 모자, 장목양말</td>\n",
       "      <td>2024-04-23</td>\n",
       "      <td>17.3</td>\n",
       "    </tr>\n",
       "    <tr>\n",
       "      <th>1334</th>\n",
       "      <td>14</td>\n",
       "      <td>반팔 티</td>\n",
       "      <td>NaN</td>\n",
       "      <td>카고바지</td>\n",
       "      <td>운동화</td>\n",
       "      <td>기타 모자</td>\n",
       "      <td>2024-04-24</td>\n",
       "      <td>13.2</td>\n",
       "    </tr>\n",
       "    <tr>\n",
       "      <th>1335</th>\n",
       "      <td>14</td>\n",
       "      <td>반팔 티</td>\n",
       "      <td>집업</td>\n",
       "      <td>나일론 팬츠</td>\n",
       "      <td>스니커즈/캔버스</td>\n",
       "      <td>기타 모자</td>\n",
       "      <td>2024-04-25</td>\n",
       "      <td>14.4</td>\n",
       "    </tr>\n",
       "    <tr>\n",
       "      <th>1336</th>\n",
       "      <td>14</td>\n",
       "      <td>반팔 티, 셔츠/블라우스</td>\n",
       "      <td>NaN</td>\n",
       "      <td>반바지</td>\n",
       "      <td>구두/로퍼</td>\n",
       "      <td>장목양말</td>\n",
       "      <td>2024-04-26</td>\n",
       "      <td>17.8</td>\n",
       "    </tr>\n",
       "    <tr>\n",
       "      <th>1337</th>\n",
       "      <td>14</td>\n",
       "      <td>반팔 티</td>\n",
       "      <td>NaN</td>\n",
       "      <td>데님팬츠</td>\n",
       "      <td>운동화</td>\n",
       "      <td>기타 모자</td>\n",
       "      <td>2024-04-27</td>\n",
       "      <td>18.2</td>\n",
       "    </tr>\n",
       "  </tbody>\n",
       "</table>\n",
       "<p>1338 rows × 8 columns</p>\n",
       "</div>"
      ],
      "text/plain": [
       "      userId             상의  아우터      하의        신발         액세서리        작성일  \\\n",
       "0          1  반팔 티, 셔츠/블라우스   재킷     반바지     구두/로퍼          NaN 2024-04-24   \n",
       "1          1           반팔 티   재킷     반바지       운동화        기타 모자 2024-04-19   \n",
       "2          1           반팔 티   재킷     반바지     구두/로퍼         장목양말 2024-04-15   \n",
       "3          1           반팔 티  NaN  나일론 팬츠     구두/로퍼          NaN 2024-04-09   \n",
       "4          1           반팔 티   집업     면바지     구두/로퍼          NaN 2024-04-05   \n",
       "...      ...            ...  ...     ...       ...          ...        ...   \n",
       "1333      14           반팔 티  NaN     반바지       운동화  기타 모자, 장목양말 2024-04-23   \n",
       "1334      14           반팔 티  NaN    카고바지       운동화        기타 모자 2024-04-24   \n",
       "1335      14           반팔 티   집업  나일론 팬츠  스니커즈/캔버스        기타 모자 2024-04-25   \n",
       "1336      14  반팔 티, 셔츠/블라우스  NaN     반바지     구두/로퍼         장목양말 2024-04-26   \n",
       "1337      14           반팔 티  NaN    데님팬츠       운동화        기타 모자 2024-04-27   \n",
       "\n",
       "      평균기온(°C)  \n",
       "0         13.2  \n",
       "1         17.6  \n",
       "2         16.0  \n",
       "3         15.3  \n",
       "4         14.0  \n",
       "...        ...  \n",
       "1333      17.3  \n",
       "1334      13.2  \n",
       "1335      14.4  \n",
       "1336      17.8  \n",
       "1337      18.2  \n",
       "\n",
       "[1338 rows x 8 columns]"
      ]
     },
     "execution_count": 3,
     "metadata": {},
     "output_type": "execute_result"
    }
   ],
   "source": [
    "# csv 파일을 dataframe으로 변환\n",
    "df_outfit = pd.read_csv('../data/outfit(male)/outfit(male).csv')\n",
    "df_weather = pd.read_csv('../data/2022-08-01_to_2024-04-30.csv', encoding='cp949')\n",
    "# 필요한 columns만 추출\n",
    "df_outfit = df_outfit[['userId', '상의', '아우터', '하의', '신발', '액세서리', '작성일']].copy()\n",
    "df_temp = df_weather[['일시', '평균기온(°C)']].copy()\n",
    "\n",
    "# '작성일'과 '일시' 열을 datetime 형식으로 변환\n",
    "df_outfit['작성일'] = pd.to_datetime(df_outfit['작성일'], format='%Y년 %m월 %d일')\n",
    "df_temp['일시'] = pd.to_datetime(df_temp['일시'])\n",
    "\n",
    "# 두 dataframe을 날짜를 기준으로 병합\n",
    "df_merged = pd.merge(df_outfit, df_temp, left_on='작성일', right_on='일시').drop('일시', axis=1)\n",
    "\n",
    "df_merged"
   ]
  },
  {
   "cell_type": "code",
   "execution_count": 4,
   "metadata": {},
   "outputs": [],
   "source": [
    "# '상의', '아우터', '하의', '신발', '엑세서리' 열의 결측값을 '~ 없음'으로 대체\n",
    "columns = ['상의', '아우터', '하의', '신발', '액세서리']\n",
    "df_notnull = df_merged.copy()\n",
    "for column in columns:\n",
    "    df_notnull[column] = df_merged[column].fillna(column + ' 없음')"
   ]
  },
  {
   "cell_type": "code",
   "execution_count": 5,
   "metadata": {},
   "outputs": [
    {
     "data": {
      "text/plain": [
       "\"df_notnull[df_notnull['아우터'].str.contains('재킷 2')]\""
      ]
     },
     "execution_count": 5,
     "metadata": {},
     "output_type": "execute_result"
    }
   ],
   "source": [
    "'''df_notnull[df_notnull['아우터'].str.contains('재킷 2')]'''"
   ]
  },
  {
   "cell_type": "code",
   "execution_count": 6,
   "metadata": {},
   "outputs": [
    {
     "data": {
      "text/plain": [
       "\"df_dup[df_dup['아우터'].str.contains('니트')]\""
      ]
     },
     "execution_count": 6,
     "metadata": {},
     "output_type": "execute_result"
    }
   ],
   "source": [
    "'''df_dup[df_dup['아우터'].str.contains('니트')]'''"
   ]
  },
  {
   "cell_type": "code",
   "execution_count": 7,
   "metadata": {},
   "outputs": [],
   "source": [
    "# 2가 붙은 단어를 두 번 반복하는 함수\n",
    "def duplicate_word(text):\n",
    "    words = text.split(', ')\n",
    "    for i, word in enumerate(words):\n",
    "        if '2' in word:\n",
    "            words[i] = word.replace('2', '') + ', ' + word.replace('2', '')\n",
    "    return ', '.join(words)"
   ]
  },
  {
   "cell_type": "code",
   "execution_count": 8,
   "metadata": {},
   "outputs": [],
   "source": [
    "# 2가 붙은 단어를 두 번 반복한 dataframe df_dup 생성\n",
    "df_dup = df_notnull.copy()\n",
    "for column in columns:\n",
    "    df_dup[columns] = df_notnull[columns].map(duplicate_word)"
   ]
  },
  {
   "cell_type": "code",
   "execution_count": 9,
   "metadata": {},
   "outputs": [
    {
     "data": {
      "text/plain": [
       "Index(['userId', '상의', '아우터', '하의', '신발', '액세서리', '작성일', '평균기온(°C)'], dtype='object')"
      ]
     },
     "execution_count": 9,
     "metadata": {},
     "output_type": "execute_result"
    }
   ],
   "source": [
    "df_dup.columns"
   ]
  },
  {
   "cell_type": "code",
   "execution_count": 10,
   "metadata": {},
   "outputs": [],
   "source": [
    "# 옷의 조합 컬럼 생성 (상의, 아우터, 하의, 신발, 엑세서리의 각 값들을 하나의 문자열로 조합하여 하나의 컬럼으로 만듦)\n",
    "df_combination = df_dup.copy()\n",
    "df_combination['옷 조합'] = df_dup['상의'] + ', ' + df_dup['아우터'] + ', ' + df_dup['하의'] + ', ' + df_dup['신발'] + ', ' + df_dup['액세서리']\n",
    "df_combination.drop(columns=['상의', '아우터', '하의', '신발', '액세서리'], inplace=True)"
   ]
  },
  {
   "cell_type": "code",
   "execution_count": 11,
   "metadata": {},
   "outputs": [
    {
     "data": {
      "text/plain": [
       "Index(['userId', '작성일', '평균기온(°C)', '옷 조합'], dtype='object')"
      ]
     },
     "execution_count": 11,
     "metadata": {},
     "output_type": "execute_result"
    }
   ],
   "source": [
    "df_combination.columns"
   ]
  },
  {
   "cell_type": "code",
   "execution_count": 12,
   "metadata": {},
   "outputs": [
    {
     "data": {
      "text/plain": [
       "\"df_combination[df_combination['옷 조합'].str.contains('니트 , 니트')]\""
      ]
     },
     "execution_count": 12,
     "metadata": {},
     "output_type": "execute_result"
    }
   ],
   "source": [
    "'''df_combination[df_combination['옷 조합'].str.contains('니트 , 니트')]'''"
   ]
  },
  {
   "cell_type": "code",
   "execution_count": 13,
   "metadata": {},
   "outputs": [
    {
     "data": {
      "text/plain": [
       "\"# 옷의 조합 컬럼의 공백 제거\\ndf_combination['옷 조합'] = df_combination['옷 조합'].str.replace(' ', '')\""
      ]
     },
     "execution_count": 13,
     "metadata": {},
     "output_type": "execute_result"
    }
   ],
   "source": [
    "'''# 옷의 조합 컬럼의 공백 제거\n",
    "df_combination['옷 조합'] = df_combination['옷 조합'].str.replace(' ', '')'''"
   ]
  },
  {
   "cell_type": "code",
   "execution_count": 14,
   "metadata": {},
   "outputs": [
    {
     "name": "stderr",
     "output_type": "stream",
     "text": [
      "/home/ksy/anaconda3/envs/ondoset/lib/python3.9/site-packages/sklearn/feature_extraction/text.py:525: UserWarning: The parameter 'token_pattern' will not be used since 'tokenizer' is not None'\n",
      "  warnings.warn(\n"
     ]
    },
    {
     "data": {
      "text/plain": [
       "(1338, 45)"
      ]
     },
     "execution_count": 14,
     "metadata": {},
     "output_type": "execute_result"
    }
   ],
   "source": [
    "# 쉼표를 기준으로 텍스트를 나누는 함수\n",
    "def comma_tokenizer(s):\n",
    "    return s.split(', ')\n",
    "\n",
    "vectorizer = CountVectorizer(tokenizer=comma_tokenizer)\n",
    "\n",
    "O = vectorizer.fit_transform(df_combination['옷 조합'])\n",
    "\n",
    "# multi-hot encoding된 데이터를 numpy array로 변환\n",
    "df_encoded = pd.DataFrame(O.toarray().tolist(), columns=vectorizer.get_feature_names_out())\n",
    "npa = np.array(df_encoded)\n",
    "npa.shape"
   ]
  },
  {
   "cell_type": "code",
   "execution_count": 15,
   "metadata": {},
   "outputs": [
    {
     "data": {
      "text/plain": [
       "Index([86, 317, 430, 435, 560, 593, 633, 640, 793, 1039], dtype='int64')"
      ]
     },
     "execution_count": 15,
     "metadata": {},
     "output_type": "execute_result"
    }
   ],
   "source": [
    "# 값이 2 이상인 행의 인덱스\n",
    "rows_with_value_2 = df_encoded[(df_encoded >= 2).any(axis=1)]\n",
    "rows_with_value_2.index"
   ]
  },
  {
   "cell_type": "code",
   "execution_count": 16,
   "metadata": {},
   "outputs": [
    {
     "data": {
      "text/html": [
       "<div>\n",
       "<style scoped>\n",
       "    .dataframe tbody tr th:only-of-type {\n",
       "        vertical-align: middle;\n",
       "    }\n",
       "\n",
       "    .dataframe tbody tr th {\n",
       "        vertical-align: top;\n",
       "    }\n",
       "\n",
       "    .dataframe thead th {\n",
       "        text-align: right;\n",
       "    }\n",
       "</style>\n",
       "<table border=\"1\" class=\"dataframe\">\n",
       "  <thead>\n",
       "    <tr style=\"text-align: right;\">\n",
       "      <th></th>\n",
       "      <th>니트</th>\n",
       "      <th>민소매 티</th>\n",
       "      <th>반팔 티</th>\n",
       "      <th>재킷</th>\n",
       "    </tr>\n",
       "  </thead>\n",
       "  <tbody>\n",
       "    <tr>\n",
       "      <th>86</th>\n",
       "      <td>0</td>\n",
       "      <td>2</td>\n",
       "      <td>1</td>\n",
       "      <td>1</td>\n",
       "    </tr>\n",
       "    <tr>\n",
       "      <th>317</th>\n",
       "      <td>2</td>\n",
       "      <td>0</td>\n",
       "      <td>0</td>\n",
       "      <td>0</td>\n",
       "    </tr>\n",
       "    <tr>\n",
       "      <th>430</th>\n",
       "      <td>0</td>\n",
       "      <td>0</td>\n",
       "      <td>2</td>\n",
       "      <td>0</td>\n",
       "    </tr>\n",
       "    <tr>\n",
       "      <th>435</th>\n",
       "      <td>0</td>\n",
       "      <td>0</td>\n",
       "      <td>2</td>\n",
       "      <td>0</td>\n",
       "    </tr>\n",
       "    <tr>\n",
       "      <th>560</th>\n",
       "      <td>0</td>\n",
       "      <td>0</td>\n",
       "      <td>0</td>\n",
       "      <td>2</td>\n",
       "    </tr>\n",
       "    <tr>\n",
       "      <th>593</th>\n",
       "      <td>0</td>\n",
       "      <td>0</td>\n",
       "      <td>2</td>\n",
       "      <td>0</td>\n",
       "    </tr>\n",
       "    <tr>\n",
       "      <th>633</th>\n",
       "      <td>1</td>\n",
       "      <td>0</td>\n",
       "      <td>2</td>\n",
       "      <td>1</td>\n",
       "    </tr>\n",
       "    <tr>\n",
       "      <th>640</th>\n",
       "      <td>0</td>\n",
       "      <td>0</td>\n",
       "      <td>1</td>\n",
       "      <td>2</td>\n",
       "    </tr>\n",
       "    <tr>\n",
       "      <th>793</th>\n",
       "      <td>2</td>\n",
       "      <td>0</td>\n",
       "      <td>0</td>\n",
       "      <td>0</td>\n",
       "    </tr>\n",
       "    <tr>\n",
       "      <th>1039</th>\n",
       "      <td>0</td>\n",
       "      <td>0</td>\n",
       "      <td>2</td>\n",
       "      <td>0</td>\n",
       "    </tr>\n",
       "  </tbody>\n",
       "</table>\n",
       "</div>"
      ],
      "text/plain": [
       "      니트  민소매 티  반팔 티  재킷\n",
       "86     0      2     1   1\n",
       "317    2      0     0   0\n",
       "430    0      0     2   0\n",
       "435    0      0     2   0\n",
       "560    0      0     0   2\n",
       "593    0      0     2   0\n",
       "633    1      0     2   1\n",
       "640    0      0     1   2\n",
       "793    2      0     0   0\n",
       "1039   0      0     2   0"
      ]
     },
     "execution_count": 16,
     "metadata": {},
     "output_type": "execute_result"
    }
   ],
   "source": [
    "# 값이 2 이상인 열의 이름을 찾습니다.\n",
    "columns_with_value_over_2 = df_encoded.columns[(df_encoded >= 2).any()]\n",
    "\n",
    "# 특정 행에 대해 이를 기록합니다.\n",
    "record = df_encoded.loc[rows_with_value_2.index, columns_with_value_over_2]\n",
    "record"
   ]
  },
  {
   "cell_type": "code",
   "execution_count": 17,
   "metadata": {},
   "outputs": [
    {
     "data": {
      "text/plain": [
       "array(['가디건', '가죽 바지', '구두/로퍼', '기타 모자', '긴팔 티', '나일론 팬츠', '니트', '데님팬츠',\n",
       "       '레더부츠', '레인부츠', '마스크', '맨투맨', '머플러', '면바지', '민소매 티', '바람막이', '반바지',\n",
       "       '반팔', '반팔 니트', '반팔 셔츠/블라우스', '반팔 티', '비니', '샌들/슬리퍼', '셔츠/블라우스',\n",
       "       '스니커즈/캔버스', '스카프', '슬랙스', '아우터 없음', '액세서리 없음', '양말', '운동화', '장목양말',\n",
       "       '재킷', '점퍼', '조끼', '집업', '카고바지', '코트', '털 모자', '트레이닝/조거 팬츠', '패딩',\n",
       "       '패딩슈즈', '패딩조끼', '하의 없음', '후드티'], dtype=object)"
      ]
     },
     "execution_count": 17,
     "metadata": {},
     "output_type": "execute_result"
    }
   ],
   "source": [
    "# 단어장 확인\n",
    "vectorizer.get_feature_names_out()"
   ]
  },
  {
   "cell_type": "code",
   "execution_count": 18,
   "metadata": {},
   "outputs": [
    {
     "data": {
      "text/plain": [
       "0       [0, 0, 1, 0, 0, 0, 0, 0, 0, 0, 0, 0, 0, 0, 0, ...\n",
       "1       [0, 0, 0, 1, 0, 0, 0, 0, 0, 0, 0, 0, 0, 0, 0, ...\n",
       "2       [0, 0, 1, 0, 0, 0, 0, 0, 0, 0, 0, 0, 0, 0, 0, ...\n",
       "3       [0, 0, 1, 0, 0, 1, 0, 0, 0, 0, 0, 0, 0, 0, 0, ...\n",
       "4       [0, 0, 1, 0, 0, 0, 0, 0, 0, 0, 0, 0, 0, 1, 0, ...\n",
       "                              ...                        \n",
       "1333    [0, 0, 0, 1, 0, 0, 0, 0, 0, 0, 0, 0, 0, 0, 0, ...\n",
       "1334    [0, 0, 0, 1, 0, 0, 0, 0, 0, 0, 0, 0, 0, 0, 0, ...\n",
       "1335    [0, 0, 0, 1, 0, 1, 0, 0, 0, 0, 0, 0, 0, 0, 0, ...\n",
       "1336    [0, 0, 1, 0, 0, 0, 0, 0, 0, 0, 0, 0, 0, 0, 0, ...\n",
       "1337    [0, 0, 0, 1, 0, 0, 0, 1, 0, 0, 0, 0, 0, 0, 0, ...\n",
       "Name: 옷 조합, Length: 1338, dtype: object"
      ]
     },
     "execution_count": 18,
     "metadata": {},
     "output_type": "execute_result"
    }
   ],
   "source": [
    "# numpy array를 list로 변환 후 clothes_combination 컬럼에 대입\n",
    "df_combination['옷 조합'] = npa.tolist()\n",
    "df_combination['옷 조합']"
   ]
  },
  {
   "cell_type": "code",
   "execution_count": 19,
   "metadata": {},
   "outputs": [
    {
     "data": {
      "text/plain": [
       "0        [구두/로퍼, 반바지, 반팔 티, 셔츠/블라우스, 액세서리 없음, 재킷]\n",
       "1                     [기타 모자, 반바지, 반팔 티, 운동화, 재킷]\n",
       "2                    [구두/로퍼, 반바지, 반팔 티, 장목양말, 재킷]\n",
       "3          [구두/로퍼, 나일론 팬츠, 반팔 티, 아우터 없음, 액세서리 없음]\n",
       "4                 [구두/로퍼, 면바지, 반팔 티, 액세서리 없음, 집업]\n",
       "                          ...                    \n",
       "1333        [기타 모자, 반바지, 반팔 티, 아우터 없음, 운동화, 장목양말]\n",
       "1334             [기타 모자, 반팔 티, 아우터 없음, 운동화, 카고바지]\n",
       "1335          [기타 모자, 나일론 팬츠, 반팔 티, 스니커즈/캔버스, 집업]\n",
       "1336    [구두/로퍼, 반바지, 반팔 티, 셔츠/블라우스, 아우터 없음, 장목양말]\n",
       "1337             [기타 모자, 데님팬츠, 반팔 티, 아우터 없음, 운동화]\n",
       "Name: 옷 조합, Length: 1338, dtype: object"
      ]
     },
     "execution_count": 19,
     "metadata": {},
     "output_type": "execute_result"
    }
   ],
   "source": [
    "# multi-hot encoding된 데이터를 다시 텍스트로 변환\n",
    "df_combination['옷 조합'] = vectorizer.inverse_transform(npa)\n",
    "df_combination['옷 조합'] "
   ]
  },
  {
   "cell_type": "code",
   "execution_count": 20,
   "metadata": {},
   "outputs": [],
   "source": [
    "# 하나의 문자열로 변환\n",
    "df_combtest = df_combination.copy()\n",
    "df_combtest['옷 조합'] = df_combination['옷 조합'].apply(lambda x: ', '.join(map(str, x)))"
   ]
  },
  {
   "cell_type": "code",
   "execution_count": 21,
   "metadata": {},
   "outputs": [],
   "source": [
    "# multi-hot encoding의 값이 2 이상인 경우, 해당 단어를 두 번 반복\n",
    "for i in record.index:\n",
    "    old_value = df_combtest.loc[i, '옷 조합']\n",
    "    for col in record.columns:\n",
    "        if record.loc[i, col] >= 2:\n",
    "            old_value = old_value.replace(col, col + ', ' + col)\n",
    "    df_combtest.loc[i, '옷 조합'] = old_value"
   ]
  },
  {
   "cell_type": "code",
   "execution_count": 22,
   "metadata": {},
   "outputs": [
    {
     "data": {
      "text/plain": [
       "86      기타 모자, 데님팬츠, 민소매 티, 민소매 티, 반팔 티, 셔츠/블라우스, 스니커즈...\n",
       "317               니트, 니트, 데님팬츠, 스니커즈/캔버스, 아우터 없음, 액세서리 없음\n",
       "430           데님팬츠, 반팔 티, 반팔 티, 스니커즈/캔버스, 아우터 없음, 액세서리 없음\n",
       "435              면바지, 반팔 티, 반팔 티, 샌들/슬리퍼, 아우터 없음, 액세서리 없음\n",
       "560               구두/로퍼, 기타 모자, 데님팬츠, 셔츠/블라우스, 재킷, 재킷, 조끼\n",
       "593                    반바지, 반팔 티, 반팔 티, 아우터 없음, 운동화, 장목양말\n",
       "633               구두/로퍼, 니트, 면바지, 반팔 티, 반팔 티, 액세서리 없음, 재킷\n",
       "640                     구두/로퍼, 면바지, 반팔 티, 액세서리 없음, 재킷, 재킷\n",
       "793                      니트, 니트, 비니, 스니커즈/캔버스, 카고바지, 패딩조끼\n",
       "1039              반바지, 반팔 티, 반팔 티, 스니커즈/캔버스, 아우터 없음, 장목양말\n",
       "Name: 옷 조합, dtype: object"
      ]
     },
     "execution_count": 22,
     "metadata": {},
     "output_type": "execute_result"
    }
   ],
   "source": [
    "df_combtest.loc[rows_with_value_2.index, '옷 조합']"
   ]
  },
  {
   "cell_type": "code",
   "execution_count": null,
   "metadata": {},
   "outputs": [],
   "source": []
  },
  {
   "cell_type": "code",
   "execution_count": 23,
   "metadata": {},
   "outputs": [
    {
     "data": {
      "text/html": [
       "<div>\n",
       "<style scoped>\n",
       "    .dataframe tbody tr th:only-of-type {\n",
       "        vertical-align: middle;\n",
       "    }\n",
       "\n",
       "    .dataframe tbody tr th {\n",
       "        vertical-align: top;\n",
       "    }\n",
       "\n",
       "    .dataframe thead th {\n",
       "        text-align: right;\n",
       "    }\n",
       "</style>\n",
       "<table border=\"1\" class=\"dataframe\">\n",
       "  <thead>\n",
       "    <tr style=\"text-align: right;\">\n",
       "      <th></th>\n",
       "      <th>userId</th>\n",
       "      <th>작성일</th>\n",
       "      <th>평균기온(°C)</th>\n",
       "      <th>옷 조합</th>\n",
       "    </tr>\n",
       "  </thead>\n",
       "  <tbody>\n",
       "    <tr>\n",
       "      <th>1008</th>\n",
       "      <td>12</td>\n",
       "      <td>2024-01-06</td>\n",
       "      <td>0.7</td>\n",
       "      <td>가디건, 구두/로퍼, 긴팔 티, 면바지, 액세서리 없음</td>\n",
       "    </tr>\n",
       "    <tr>\n",
       "      <th>1058</th>\n",
       "      <td>13</td>\n",
       "      <td>2022-11-21</td>\n",
       "      <td>11.8</td>\n",
       "      <td>가디건, 구두/로퍼, 긴팔 티, 면바지, 액세서리 없음</td>\n",
       "    </tr>\n",
       "    <tr>\n",
       "      <th>188</th>\n",
       "      <td>2</td>\n",
       "      <td>2023-02-15</td>\n",
       "      <td>3.2</td>\n",
       "      <td>가디건, 구두/로퍼, 긴팔 티, 면바지, 액세서리 없음</td>\n",
       "    </tr>\n",
       "    <tr>\n",
       "      <th>1014</th>\n",
       "      <td>12</td>\n",
       "      <td>2024-02-16</td>\n",
       "      <td>2.3</td>\n",
       "      <td>가디건, 구두/로퍼, 긴팔 티, 면바지, 액세서리 없음, 재킷</td>\n",
       "    </tr>\n",
       "    <tr>\n",
       "      <th>1009</th>\n",
       "      <td>12</td>\n",
       "      <td>2024-01-20</td>\n",
       "      <td>3.4</td>\n",
       "      <td>가디건, 구두/로퍼, 긴팔 티, 면바지, 액세서리 없음, 재킷</td>\n",
       "    </tr>\n",
       "    <tr>\n",
       "      <th>...</th>\n",
       "      <td>...</td>\n",
       "      <td>...</td>\n",
       "      <td>...</td>\n",
       "      <td>...</td>\n",
       "    </tr>\n",
       "    <tr>\n",
       "      <th>146</th>\n",
       "      <td>2</td>\n",
       "      <td>2023-07-28</td>\n",
       "      <td>29.5</td>\n",
       "      <td>반팔 티, 아우터 없음, 액세서리 없음, 운동화, 트레이닝/조거 팬츠</td>\n",
       "    </tr>\n",
       "    <tr>\n",
       "      <th>684</th>\n",
       "      <td>8</td>\n",
       "      <td>2023-08-29</td>\n",
       "      <td>23.9</td>\n",
       "      <td>반팔 티, 아우터 없음, 액세서리 없음, 운동화, 트레이닝/조거 팬츠</td>\n",
       "    </tr>\n",
       "    <tr>\n",
       "      <th>878</th>\n",
       "      <td>11</td>\n",
       "      <td>2023-09-20</td>\n",
       "      <td>20.6</td>\n",
       "      <td>반팔 티, 아우터 없음, 액세서리 없음, 운동화, 트레이닝/조거 팬츠</td>\n",
       "    </tr>\n",
       "    <tr>\n",
       "      <th>751</th>\n",
       "      <td>9</td>\n",
       "      <td>2023-12-20</td>\n",
       "      <td>-7.4</td>\n",
       "      <td>아우터 없음, 액세서리 없음, 운동화, 카고바지, 후드티</td>\n",
       "    </tr>\n",
       "    <tr>\n",
       "      <th>915</th>\n",
       "      <td>11</td>\n",
       "      <td>2023-11-27</td>\n",
       "      <td>6.2</td>\n",
       "      <td>아우터 없음, 액세서리 없음, 운동화, 카고바지, 후드티</td>\n",
       "    </tr>\n",
       "  </tbody>\n",
       "</table>\n",
       "<p>851 rows × 4 columns</p>\n",
       "</div>"
      ],
      "text/plain": [
       "      userId        작성일  평균기온(°C)                                    옷 조합\n",
       "1008      12 2024-01-06       0.7          가디건, 구두/로퍼, 긴팔 티, 면바지, 액세서리 없음\n",
       "1058      13 2022-11-21      11.8          가디건, 구두/로퍼, 긴팔 티, 면바지, 액세서리 없음\n",
       "188        2 2023-02-15       3.2          가디건, 구두/로퍼, 긴팔 티, 면바지, 액세서리 없음\n",
       "1014      12 2024-02-16       2.3      가디건, 구두/로퍼, 긴팔 티, 면바지, 액세서리 없음, 재킷\n",
       "1009      12 2024-01-20       3.4      가디건, 구두/로퍼, 긴팔 티, 면바지, 액세서리 없음, 재킷\n",
       "...      ...        ...       ...                                     ...\n",
       "146        2 2023-07-28      29.5  반팔 티, 아우터 없음, 액세서리 없음, 운동화, 트레이닝/조거 팬츠\n",
       "684        8 2023-08-29      23.9  반팔 티, 아우터 없음, 액세서리 없음, 운동화, 트레이닝/조거 팬츠\n",
       "878       11 2023-09-20      20.6  반팔 티, 아우터 없음, 액세서리 없음, 운동화, 트레이닝/조거 팬츠\n",
       "751        9 2023-12-20      -7.4         아우터 없음, 액세서리 없음, 운동화, 카고바지, 후드티\n",
       "915       11 2023-11-27       6.2         아우터 없음, 액세서리 없음, 운동화, 카고바지, 후드티\n",
       "\n",
       "[851 rows x 4 columns]"
      ]
     },
     "execution_count": 23,
     "metadata": {},
     "output_type": "execute_result"
    }
   ],
   "source": [
    "# 중복된 행 찾기\n",
    "duplicated_rows = df_combtest[df_combtest.duplicated(['옷 조합'], keep=False)]\n",
    "duplicated_rows.sort_values(by='옷 조합')"
   ]
  },
  {
   "cell_type": "code",
   "execution_count": null,
   "metadata": {},
   "outputs": [],
   "source": []
  },
  {
   "cell_type": "code",
   "execution_count": 24,
   "metadata": {},
   "outputs": [
    {
     "data": {
      "text/plain": [
       "Index(['가디건, 구두/로퍼, 기타 모자, 긴팔 티, 장목양말, 트레이닝/조거 팬츠',\n",
       "       '가디건, 구두/로퍼, 기타 모자, 긴팔 티, 코트, 트레이닝/조거 팬츠',\n",
       "       '가디건, 구두/로퍼, 기타 모자, 데님팬츠, 반팔 티', '가디건, 구두/로퍼, 긴팔 티, 데님팬츠, 액세서리 없음',\n",
       "       '가디건, 구두/로퍼, 긴팔 티, 데님팬츠, 액세서리 없음, 코트', '가디건, 구두/로퍼, 긴팔 티, 면바지, 액세서리 없음',\n",
       "       '가디건, 구두/로퍼, 긴팔 티, 면바지, 액세서리 없음, 재킷',\n",
       "       '가디건, 구두/로퍼, 니트, 데님팬츠, 머플러, 반팔 티, 코트', '가디건, 구두/로퍼, 니트, 데님팬츠, 액세서리 없음',\n",
       "       '가디건, 구두/로퍼, 니트, 면바지, 비니',\n",
       "       ...\n",
       "       '비니, 셔츠/블라우스, 아우터 없음, 운동화, 트레이닝/조거 팬츠',\n",
       "       '비니, 셔츠/블라우스, 운동화, 집업, 트레이닝/조거 팬츠',\n",
       "       '셔츠/블라우스, 스니커즈/캔버스, 슬랙스, 액세서리 없음, 재킷',\n",
       "       '셔츠/블라우스, 스니커즈/캔버스, 아우터 없음, 액세서리 없음, 트레이닝/조거 팬츠',\n",
       "       '셔츠/블라우스, 슬랙스, 액세서리 없음, 운동화, 재킷',\n",
       "       '스니커즈/캔버스, 아우터 없음, 액세서리 없음, 트레이닝/조거 팬츠, 후드티',\n",
       "       '스니커즈/캔버스, 액세서리 없음, 재킷, 카고바지, 후드티',\n",
       "       '스니커즈/캔버스, 액세서리 없음, 재킷, 트레이닝/조거 팬츠, 후드티',\n",
       "       '스니커즈/캔버스, 액세서리 없음, 점퍼, 트레이닝/조거 팬츠, 후드티',\n",
       "       '아우터 없음, 액세서리 없음, 운동화, 카고바지, 후드티'],\n",
       "      dtype='object', name='옷 조합', length=696)"
      ]
     },
     "execution_count": 24,
     "metadata": {},
     "output_type": "execute_result"
    }
   ],
   "source": [
    "# pivot_table을 이용한 user-item matrix 생성\n",
    "UI_matrix = df_combtest.pivot_table(values='평균기온(°C)', index='userId', columns='옷 조합', fill_value=0)\n",
    "UI_matrix.columns"
   ]
  },
  {
   "cell_type": "code",
   "execution_count": 25,
   "metadata": {},
   "outputs": [],
   "source": [
    "# pivot_table을 이용한 user_\n",
    "UI_count = df_combtest.pivot_table( index='userId', columns='옷 조합', aggfunc='size', fill_value=0) "
   ]
  },
  {
   "cell_type": "code",
   "execution_count": 26,
   "metadata": {},
   "outputs": [],
   "source": [
    "# 평균기온을 5도 간격으로 하여 카테고리화하고 이를 '온도' 컬럼에 저장\n",
    "df_temp_category = df_combtest.copy()\n",
    "df_temp_category['온도'] = pd.cut(df_temp_category['평균기온(°C)'], bins=range(-10, 40, 5), right=False)\n",
    "df_temp_category.to_csv('../data/outfit(male)/temp_category.csv', encoding='utf-8-sig')"
   ]
  },
  {
   "cell_type": "code",
   "execution_count": 27,
   "metadata": {},
   "outputs": [],
   "source": [
    "# user-item\n",
    "UI_matrix.to_csv('../data/outfit(male)/user_item_matrix.csv', encoding='utf-8-sig')"
   ]
  },
  {
   "cell_type": "code",
   "execution_count": 28,
   "metadata": {},
   "outputs": [
    {
     "data": {
      "text/plain": [
       "array([1, 1, 1, 1, 1, 3, 1, 1, 1, 1, 1, 1, 1, 1, 1, 1, 1, 2, 1, 1, 1, 1,\n",
       "       1, 1, 1, 1, 1, 1, 1, 1, 1, 1, 1, 2, 1, 1, 1, 1, 1, 1, 1, 1, 1, 1,\n",
       "       1, 1, 1, 1, 1, 2, 1, 1, 2, 1, 1, 1, 1, 1, 1, 1, 1, 2, 1, 1, 1, 1,\n",
       "       1, 1, 1, 1, 1, 1, 1, 2, 4, 1, 2, 1, 1, 1, 1, 2, 1, 1, 1, 1, 1, 1,\n",
       "       1, 2, 1, 1, 1, 1, 1, 1, 1, 1, 1, 2, 1, 1, 1, 1, 1, 1, 1, 9, 1, 1,\n",
       "       1, 3, 1, 1, 2, 1, 1, 1, 1, 3, 1, 1, 1, 2, 1, 1, 1, 2, 4, 3, 2, 3,\n",
       "       2, 1, 1, 1, 1, 1, 1, 1, 1, 1, 1, 1, 2, 3, 2, 1, 1, 1, 1, 2, 2, 1,\n",
       "       1, 1, 3, 5, 5, 1, 6, 1, 1, 1, 2, 1, 1, 2, 3, 1, 1, 1, 1, 1, 2, 1,\n",
       "       1, 1, 1, 1, 1, 3, 2, 2, 2, 1, 1, 5, 3, 1, 1, 2, 2, 1, 1, 2, 1, 2,\n",
       "       4, 1, 2, 1, 3, 1, 1, 2, 1, 3, 1, 1, 1, 1, 1, 2, 2, 1, 2, 1, 1, 2,\n",
       "       1, 2, 1, 1, 1, 3, 1, 1, 1, 2, 1, 1, 1, 1, 1, 1, 1, 2, 1, 1, 1, 1,\n",
       "       1, 1, 1, 1, 1, 1, 2, 1, 1, 1, 1, 1, 2, 1, 1, 1, 2, 1, 1, 1, 1, 1,\n",
       "       1, 1, 1, 1, 1, 1, 1, 1, 1, 1, 1, 1, 1, 1, 1, 1, 3, 1, 2, 1, 1, 1,\n",
       "       1, 1, 2, 1, 1, 2, 1, 1, 1, 2, 2, 1, 6, 3, 4, 2, 1, 1, 2, 1, 2, 6,\n",
       "       2, 4, 1, 1, 1, 1, 1, 1, 1, 2, 1, 1, 1, 1, 1, 1, 1, 1, 1, 1, 1, 2,\n",
       "       1, 1, 1, 1, 1, 1, 1, 1, 1, 1, 1, 1, 3, 3, 1, 1, 1, 1, 1, 1, 1, 1,\n",
       "       1, 1, 2, 1, 1, 1, 1, 2, 1, 2, 1, 1, 1, 1, 1, 1, 3, 1, 2, 1, 2, 1,\n",
       "       1, 1, 1, 1, 1, 1, 1, 2, 2, 1, 1, 1, 3, 2, 1, 1, 1, 1, 1, 1, 1, 1,\n",
       "       1, 1, 1, 1, 1, 1, 1, 1, 1, 1, 1, 1, 1, 1, 1, 1, 1, 1, 2, 1, 1, 1,\n",
       "       1, 2, 5, 1, 1, 1, 2, 1, 1, 1, 1, 1, 5, 2, 1, 1, 1, 1, 1, 1, 1, 1,\n",
       "       2, 1, 1, 3, 1, 1, 1, 1, 1, 1, 1, 1, 1, 1, 1, 2, 1, 1, 2, 1, 1, 1,\n",
       "       1, 1, 1, 1, 1, 1, 1, 1, 1, 1, 1, 2, 2, 2, 1, 1, 1, 1, 1, 1, 1, 5,\n",
       "       3, 1, 1, 3, 1, 1, 1, 1, 1, 1, 1, 1, 1, 2, 2, 1, 2, 1, 1, 1, 1, 1,\n",
       "       1, 1, 1, 1, 1, 1, 1, 3, 1, 1, 2, 1, 2, 1, 1, 1, 2, 1, 1, 1, 1, 2,\n",
       "       1, 1, 1, 2, 1, 1, 1, 1, 2, 3, 4, 1, 1, 1, 1, 2, 2, 1, 1, 2, 1, 5,\n",
       "       1, 5, 3, 1, 1, 1, 4, 1, 5, 3, 3, 1, 1, 1, 2, 1, 5, 2, 4, 1, 1, 1,\n",
       "       1, 1, 1, 1, 1, 1, 2, 1, 1, 1, 1, 1, 1, 1, 1, 1, 2, 1, 2, 1, 1, 2,\n",
       "       1, 1, 2, 1, 1, 1, 2, 1, 1, 1, 1, 1, 1, 1, 1, 1, 1, 1, 2, 1, 1, 1,\n",
       "       1, 3, 2, 1, 1, 1, 2, 1, 5, 2, 1, 2, 1, 1, 1, 1, 1, 1, 1, 1, 1, 1,\n",
       "       1, 1, 2, 2, 3, 1, 1, 1, 1, 3, 1, 1, 1, 1, 1, 4, 5, 1, 2, 1, 3, 1,\n",
       "       1, 1, 1, 1, 1, 1, 1, 1, 1, 2, 1, 1, 2, 3, 2, 2, 1, 1, 1, 3, 1, 1,\n",
       "       1, 1, 1, 1, 1, 1, 1, 1, 1, 1, 1, 1, 1, 2])"
      ]
     },
     "execution_count": 28,
     "metadata": {},
     "output_type": "execute_result"
    }
   ],
   "source": [
    "# user-item matrix에 기록된 값이 존재하는 경우 1, 아닌 경우 0으로 변환하여 R_df에 기록\n",
    "R_df = UI_matrix.map(lambda x: 1 if x != 0 else 0)\n",
    "R_np = np.array(R_df)\n",
    "R_np.sum(axis=0)"
   ]
  },
  {
   "cell_type": "code",
   "execution_count": 29,
   "metadata": {},
   "outputs": [],
   "source": [
    "# 각 열의 합이 2 이상(여러 유저가 해당 옷 조합을 선택한 경우)인 열을 찾음\n",
    "columns_with_sum_over_2 = R_df.columns[R_df.sum() >= 2]"
   ]
  },
  {
   "cell_type": "code",
   "execution_count": 30,
   "metadata": {},
   "outputs": [
    {
     "data": {
      "text/plain": [
       "'UI_matrix[columns_with_sum_over_2]'"
      ]
     },
     "execution_count": 30,
     "metadata": {},
     "output_type": "execute_result"
    }
   ],
   "source": [
    "'''UI_matrix[columns_with_sum_over_2]'''"
   ]
  },
  {
   "cell_type": "code",
   "execution_count": 31,
   "metadata": {},
   "outputs": [
    {
     "data": {
      "text/plain": [
       "'columns_with_sum_over_2'"
      ]
     },
     "execution_count": 31,
     "metadata": {},
     "output_type": "execute_result"
    }
   ],
   "source": [
    "'''columns_with_sum_over_2'''"
   ]
  },
  {
   "cell_type": "code",
   "execution_count": 32,
   "metadata": {},
   "outputs": [
    {
     "data": {
      "text/plain": [
       "'# 해당 조합의 인덱스\\ncolumn_index = []\\nfor i in columns_with_sum_over_2:\\n    column_index.append(R_df.columns.get_loc(i))\\n    column_index\\ncolumn_index'"
      ]
     },
     "execution_count": 32,
     "metadata": {},
     "output_type": "execute_result"
    }
   ],
   "source": [
    "'''# 해당 조합의 인덱스\n",
    "column_index = []\n",
    "for i in columns_with_sum_over_2:\n",
    "    column_index.append(R_df.columns.get_loc(i))\n",
    "    column_index\n",
    "column_index'''"
   ]
  },
  {
   "cell_type": "code",
   "execution_count": 33,
   "metadata": {},
   "outputs": [
    {
     "data": {
      "text/plain": [
       "'for row in R_np:\\n    print(row)'"
      ]
     },
     "execution_count": 33,
     "metadata": {},
     "output_type": "execute_result"
    }
   ],
   "source": [
    "'''for row in R_np:\n",
    "    print(row)'''"
   ]
  },
  {
   "cell_type": "code",
   "execution_count": 34,
   "metadata": {},
   "outputs": [
    {
     "name": "stdout",
     "output_type": "stream",
     "text": [
      "(696, 14)\n"
     ]
    }
   ],
   "source": [
    "# CF를 위한 초기값 설정\n",
    "Y = np.array(UI_matrix)\n",
    "Y = Y.T\n",
    "count = np.array(UI_count)\n",
    "count = count.T\n",
    "print(Y.shape)\n",
    "R = Y != 0 \n",
    "n_u = Y.shape[1]\n",
    "n_o = Y.shape[0]"
   ]
  },
  {
   "cell_type": "code",
   "execution_count": 46,
   "metadata": {},
   "outputs": [
    {
     "data": {
      "text/plain": [
       "(696, 1)"
      ]
     },
     "execution_count": 46,
     "metadata": {},
     "output_type": "execute_result"
    }
   ],
   "source": [
    "# 기록이 존재하는 값의 평균을 구함\n",
    "o_sum = Y.sum(axis=1)\n",
    "o_count = R.sum(axis=1)\n",
    "o_mean = o_sum / o_count\n",
    "o_mean.shape\n",
    "o_mean = o_mean.reshape(-1, 1)\n",
    "o_mean.shape"
   ]
  },
  {
   "cell_type": "code",
   "execution_count": 36,
   "metadata": {},
   "outputs": [
    {
     "data": {
      "text/plain": [
       "'Y[column_index]'"
      ]
     },
     "execution_count": 36,
     "metadata": {},
     "output_type": "execute_result"
    }
   ],
   "source": [
    "'''Y[column_index]'''"
   ]
  },
  {
   "cell_type": "code",
   "execution_count": 39,
   "metadata": {},
   "outputs": [
    {
     "data": {
      "text/plain": [
       "'Y_stand[column_index]'"
      ]
     },
     "execution_count": 39,
     "metadata": {},
     "output_type": "execute_result"
    }
   ],
   "source": [
    "Y_stand = Y - (o_mean * R)\n",
    "'''Y_stand[column_index]'''"
   ]
  },
  {
   "cell_type": "code",
   "execution_count": 40,
   "metadata": {},
   "outputs": [],
   "source": [
    "def cofi_cost_func_v(O, U, b, Y, R, lambda_):\n",
    "    j = (tf.linalg.matmul(O, tf.transpose(U)) + b - Y )*R\n",
    "    J = 0.5 * tf.reduce_sum(j**2) + (lambda_/2) * (tf.reduce_sum(O**2) + tf.reduce_sum(U**2))\n",
    "    return J"
   ]
  },
  {
   "cell_type": "code",
   "execution_count": 41,
   "metadata": {},
   "outputs": [
    {
     "name": "stderr",
     "output_type": "stream",
     "text": [
      "2024-05-05 20:08:03.173815: I external/local_xla/xla/stream_executor/cuda/cuda_executor.cc:887] could not open file to read NUMA node: /sys/bus/pci/devices/0000:01:00.0/numa_node\n",
      "Your kernel may have been built without NUMA support.\n",
      "2024-05-05 20:08:03.357794: I external/local_xla/xla/stream_executor/cuda/cuda_executor.cc:887] could not open file to read NUMA node: /sys/bus/pci/devices/0000:01:00.0/numa_node\n",
      "Your kernel may have been built without NUMA support.\n",
      "2024-05-05 20:08:03.357848: I external/local_xla/xla/stream_executor/cuda/cuda_executor.cc:887] could not open file to read NUMA node: /sys/bus/pci/devices/0000:01:00.0/numa_node\n",
      "Your kernel may have been built without NUMA support.\n",
      "2024-05-05 20:08:03.366902: I external/local_xla/xla/stream_executor/cuda/cuda_executor.cc:887] could not open file to read NUMA node: /sys/bus/pci/devices/0000:01:00.0/numa_node\n",
      "Your kernel may have been built without NUMA support.\n",
      "2024-05-05 20:08:03.366963: I external/local_xla/xla/stream_executor/cuda/cuda_executor.cc:887] could not open file to read NUMA node: /sys/bus/pci/devices/0000:01:00.0/numa_node\n",
      "Your kernel may have been built without NUMA support.\n",
      "2024-05-05 20:08:03.366980: I external/local_xla/xla/stream_executor/cuda/cuda_executor.cc:887] could not open file to read NUMA node: /sys/bus/pci/devices/0000:01:00.0/numa_node\n",
      "Your kernel may have been built without NUMA support.\n",
      "2024-05-05 20:08:03.636425: I external/local_xla/xla/stream_executor/cuda/cuda_executor.cc:887] could not open file to read NUMA node: /sys/bus/pci/devices/0000:01:00.0/numa_node\n",
      "Your kernel may have been built without NUMA support.\n",
      "2024-05-05 20:08:03.636760: I external/local_xla/xla/stream_executor/cuda/cuda_executor.cc:887] could not open file to read NUMA node: /sys/bus/pci/devices/0000:01:00.0/numa_node\n",
      "Your kernel may have been built without NUMA support.\n",
      "2024-05-05 20:08:03.636772: I tensorflow/core/common_runtime/gpu/gpu_device.cc:2022] Could not identify NUMA node of platform GPU id 0, defaulting to 0.  Your kernel may not have been built with NUMA support.\n",
      "2024-05-05 20:08:03.637044: I external/local_xla/xla/stream_executor/cuda/cuda_executor.cc:887] could not open file to read NUMA node: /sys/bus/pci/devices/0000:01:00.0/numa_node\n",
      "Your kernel may have been built without NUMA support.\n",
      "2024-05-05 20:08:03.637285: I tensorflow/core/common_runtime/gpu/gpu_device.cc:1929] Created device /job:localhost/replica:0/task:0/device:GPU:0 with 3600 MB memory:  -> device: 0, name: NVIDIA GeForce RTX 3060 Laptop GPU, pci bus id: 0000:01:00.0, compute capability: 8.6\n"
     ]
    }
   ],
   "source": [
    "# user, outfit의 수\n",
    "n_o, n_u = Y.shape\n",
    "# latent factor의 수\n",
    "num_features = 30\n",
    "\n",
    "# (U,O)를 초기화하고 tf.Variable로 등록하여 추적\n",
    "tf.random.set_seed(1234) # for consistent results\n",
    "U = tf.Variable(tf.random.normal((n_u,  num_features),dtype=tf.float64),  name='U')\n",
    "O = tf.Variable(tf.random.normal((n_o, num_features),dtype=tf.float64),  name='O')\n",
    "b = tf.Variable(tf.random.normal((1,          n_u),   dtype=tf.float64),  name='b')\n",
    "\n",
    "# optimizer 초기화\n",
    "optimizer = keras.optimizers.Adam(learning_rate=1e-1)"
   ]
  },
  {
   "cell_type": "code",
   "execution_count": 42,
   "metadata": {},
   "outputs": [
    {
     "name": "stderr",
     "output_type": "stream",
     "text": [
      "2024-05-05 20:08:04.337323: I external/local_tsl/tsl/platform/default/subprocess.cc:304] Start cannot spawn child process: No such file or directory\n"
     ]
    }
   ],
   "source": [
    "J = cofi_cost_func_v(O, U, b, Y_stand, R, 1.5)"
   ]
  },
  {
   "cell_type": "code",
   "execution_count": 43,
   "metadata": {},
   "outputs": [
    {
     "name": "stdout",
     "output_type": "stream",
     "text": [
      "Cost (with regularization): 36422.74\n"
     ]
    }
   ],
   "source": [
    "print(f\"Cost (with regularization): {J:0.2f}\")"
   ]
  },
  {
   "cell_type": "code",
   "execution_count": 44,
   "metadata": {},
   "outputs": [
    {
     "name": "stderr",
     "output_type": "stream",
     "text": [
      "2024-05-05 20:08:04.813010: I external/local_xla/xla/service/service.cc:168] XLA service 0xb7b2820 initialized for platform CUDA (this does not guarantee that XLA will be used). Devices:\n",
      "2024-05-05 20:08:04.813053: I external/local_xla/xla/service/service.cc:176]   StreamExecutor device (0): NVIDIA GeForce RTX 3060 Laptop GPU, Compute Capability 8.6\n",
      "2024-05-05 20:08:04.841196: I tensorflow/compiler/mlir/tensorflow/utils/dump_mlir_util.cc:269] disabling MLIR crash reproducer, set env var `MLIR_CRASH_REPRODUCER_DIRECTORY` to enable.\n",
      "2024-05-05 20:08:04.887052: I external/local_xla/xla/stream_executor/cuda/cuda_dnn.cc:454] Loaded cuDNN version 8902\n",
      "WARNING: All log messages before absl::InitializeLog() is called are written to STDERR\n",
      "I0000 00:00:1714907284.993317    1006 device_compiler.h:186] Compiled cluster using XLA!  This line is logged at most once for the lifetime of the process.\n"
     ]
    },
    {
     "name": "stdout",
     "output_type": "stream",
     "text": [
      "Training loss at iteration 0: 31076.2\n",
      "validation loss at iteration 0: 20470.5\n",
      "Training loss at iteration 20: 2723.0\n",
      "validation loss at iteration 20: 2540.0\n",
      "Training loss at iteration 40: 834.2\n",
      "validation loss at iteration 40: 795.6\n",
      "Training loss at iteration 60: 421.2\n",
      "validation loss at iteration 60: 412.9\n",
      "Training loss at iteration 80: 331.0\n",
      "validation loss at iteration 80: 329.1\n",
      "Training loss at iteration 100: 308.7\n",
      "validation loss at iteration 100: 308.2\n",
      "Training loss at iteration 120: 301.7\n",
      "validation loss at iteration 120: 301.5\n",
      "Training loss at iteration 140: 298.8\n",
      "validation loss at iteration 140: 298.7\n",
      "Training loss at iteration 160: 297.3\n",
      "validation loss at iteration 160: 297.3\n",
      "Training loss at iteration 180: 296.4\n",
      "validation loss at iteration 180: 296.4\n"
     ]
    }
   ],
   "source": [
    "iterations = 200\n",
    "lambda_ = 1\n",
    "for iter in range(iterations):\n",
    "    # TensorFlow의 GradientTape 사용\n",
    "    # 연산을 기록하여 cost에 대한 gradient를 자동으로 계산\n",
    "    with tf.GradientTape() as tape:\n",
    "\n",
    "        # cost 계산 (forward pass included in cost)\n",
    "        cost_value = cofi_cost_func_v(O, U, b, Y_stand, R, lambda_)\n",
    "\n",
    "    # GradientTape를 통해 자동 미분\n",
    "    # loss에 대한 trainable parameter의 gradient를 계산\n",
    "    grads = tape.gradient( cost_value, [O,U,b] )\n",
    "\n",
    "    # optimizer를 사용하여 trainable parameter를 업데이트\n",
    "    optimizer.apply_gradients( zip(grads, [O,U,b]) )\n",
    "\n",
    "    # Log periodically.\n",
    "    if iter % 20 == 0:\n",
    "        print(f\"Training loss at iteration {iter}: {cost_value:0.1f}\")\n",
    "        print(f'validation loss at iteration {iter}: {cofi_cost_func_v(O, U, b, Y_stand, R, lambda_):0.1f}')"
   ]
  },
  {
   "cell_type": "code",
   "execution_count": 45,
   "metadata": {},
   "outputs": [],
   "source": [
    "# 예측을 수행하기 위해 모든 user-item에 대한 예측값을 계산\n",
    "p = np.matmul(O.numpy(), np.transpose(U.numpy())) + b.numpy()\n",
    "# 실제 온도\n",
    "temp = 11\n",
    "# 평균을 적용하고 temp를 빼서 값이 작을수록 실제 온도에 가깝도록 함. 이 때 각 user-item의 사용 횟수를 가중하여 많이 사용한 item이 추천되도록 함\n",
    "pm = np.power(p + o_mean - temp, 2)  -count * 8\n",
    "\n",
    "# 각 user마다 반복\n",
    "for i in range(n_u) :\n",
    "    my_predictions = pm[:,i]\n",
    "\n",
    "    # sort predictions\n",
    "    ix = tf.argsort(my_predictions, direction='ASCENDING')\n",
    "\n",
    "    df_predict = UI_matrix[UI_matrix.columns[ix[0:10]]]\n",
    "    df_predict.to_csv(f'../data/predictions/male/user_{i+1}_predictions.csv')"
   ]
  },
  {
   "cell_type": "code",
   "execution_count": 46,
   "metadata": {},
   "outputs": [
    {
     "data": {
      "text/html": [
       "<div>\n",
       "<style scoped>\n",
       "    .dataframe tbody tr th:only-of-type {\n",
       "        vertical-align: middle;\n",
       "    }\n",
       "\n",
       "    .dataframe tbody tr th {\n",
       "        vertical-align: top;\n",
       "    }\n",
       "\n",
       "    .dataframe thead th {\n",
       "        text-align: right;\n",
       "    }\n",
       "</style>\n",
       "<table border=\"1\" class=\"dataframe\">\n",
       "  <thead>\n",
       "    <tr style=\"text-align: right;\">\n",
       "      <th>옷 조합</th>\n",
       "      <th>기타 모자, 데님팬츠, 바람막이, 반팔 티, 운동화</th>\n",
       "      <th>기타 모자, 긴팔 티, 데님팬츠, 레더부츠, 코트</th>\n",
       "      <th>기타 모자, 바람막이, 반바지, 반팔 티, 운동화, 장목양말</th>\n",
       "      <th>기타 모자, 데님팬츠, 반팔 티, 운동화, 점퍼</th>\n",
       "      <th>구두/로퍼, 기타 모자, 니트, 데님팬츠, 반팔 티, 아우터 없음</th>\n",
       "      <th>기타 모자, 긴팔 티, 데님팬츠, 레더부츠, 재킷</th>\n",
       "      <th>기타 모자, 반팔 티, 아우터 없음, 운동화, 카고바지</th>\n",
       "      <th>기타 모자, 반팔 티, 아우터 없음, 운동화, 카고바지, 후드티</th>\n",
       "      <th>구두/로퍼, 기타 모자, 데님팬츠, 반팔 티, 셔츠/블라우스, 아우터 없음</th>\n",
       "      <th>구두/로퍼, 기타 모자, 긴팔 티, 데님팬츠, 재킷</th>\n",
       "    </tr>\n",
       "    <tr>\n",
       "      <th>userId</th>\n",
       "      <th></th>\n",
       "      <th></th>\n",
       "      <th></th>\n",
       "      <th></th>\n",
       "      <th></th>\n",
       "      <th></th>\n",
       "      <th></th>\n",
       "      <th></th>\n",
       "      <th></th>\n",
       "      <th></th>\n",
       "    </tr>\n",
       "  </thead>\n",
       "  <tbody>\n",
       "    <tr>\n",
       "      <th>1</th>\n",
       "      <td>0.0</td>\n",
       "      <td>0.0</td>\n",
       "      <td>0.0</td>\n",
       "      <td>0.0</td>\n",
       "      <td>0.0</td>\n",
       "      <td>5.000000</td>\n",
       "      <td>0.0</td>\n",
       "      <td>0.0</td>\n",
       "      <td>0.00</td>\n",
       "      <td>7.4</td>\n",
       "    </tr>\n",
       "    <tr>\n",
       "      <th>2</th>\n",
       "      <td>0.0</td>\n",
       "      <td>0.0</td>\n",
       "      <td>0.0</td>\n",
       "      <td>0.0</td>\n",
       "      <td>0.0</td>\n",
       "      <td>0.000000</td>\n",
       "      <td>24.5</td>\n",
       "      <td>0.0</td>\n",
       "      <td>0.00</td>\n",
       "      <td>0.0</td>\n",
       "    </tr>\n",
       "    <tr>\n",
       "      <th>3</th>\n",
       "      <td>0.0</td>\n",
       "      <td>0.0</td>\n",
       "      <td>25.4</td>\n",
       "      <td>0.0</td>\n",
       "      <td>0.0</td>\n",
       "      <td>0.000000</td>\n",
       "      <td>0.0</td>\n",
       "      <td>0.0</td>\n",
       "      <td>0.00</td>\n",
       "      <td>0.0</td>\n",
       "    </tr>\n",
       "    <tr>\n",
       "      <th>4</th>\n",
       "      <td>0.0</td>\n",
       "      <td>0.0</td>\n",
       "      <td>0.0</td>\n",
       "      <td>0.0</td>\n",
       "      <td>0.0</td>\n",
       "      <td>0.000000</td>\n",
       "      <td>0.0</td>\n",
       "      <td>0.0</td>\n",
       "      <td>0.00</td>\n",
       "      <td>0.0</td>\n",
       "    </tr>\n",
       "    <tr>\n",
       "      <th>5</th>\n",
       "      <td>0.0</td>\n",
       "      <td>0.0</td>\n",
       "      <td>0.0</td>\n",
       "      <td>0.0</td>\n",
       "      <td>0.0</td>\n",
       "      <td>0.000000</td>\n",
       "      <td>0.0</td>\n",
       "      <td>0.0</td>\n",
       "      <td>0.00</td>\n",
       "      <td>0.0</td>\n",
       "    </tr>\n",
       "    <tr>\n",
       "      <th>6</th>\n",
       "      <td>0.0</td>\n",
       "      <td>0.0</td>\n",
       "      <td>0.0</td>\n",
       "      <td>0.0</td>\n",
       "      <td>0.0</td>\n",
       "      <td>0.000000</td>\n",
       "      <td>0.0</td>\n",
       "      <td>0.0</td>\n",
       "      <td>0.00</td>\n",
       "      <td>0.0</td>\n",
       "    </tr>\n",
       "    <tr>\n",
       "      <th>7</th>\n",
       "      <td>0.0</td>\n",
       "      <td>0.0</td>\n",
       "      <td>0.0</td>\n",
       "      <td>0.0</td>\n",
       "      <td>0.0</td>\n",
       "      <td>0.000000</td>\n",
       "      <td>0.0</td>\n",
       "      <td>0.0</td>\n",
       "      <td>0.00</td>\n",
       "      <td>0.0</td>\n",
       "    </tr>\n",
       "    <tr>\n",
       "      <th>8</th>\n",
       "      <td>0.0</td>\n",
       "      <td>0.0</td>\n",
       "      <td>0.0</td>\n",
       "      <td>0.0</td>\n",
       "      <td>0.0</td>\n",
       "      <td>0.000000</td>\n",
       "      <td>27.7</td>\n",
       "      <td>0.0</td>\n",
       "      <td>0.00</td>\n",
       "      <td>0.0</td>\n",
       "    </tr>\n",
       "    <tr>\n",
       "      <th>9</th>\n",
       "      <td>0.0</td>\n",
       "      <td>0.0</td>\n",
       "      <td>0.0</td>\n",
       "      <td>0.0</td>\n",
       "      <td>0.0</td>\n",
       "      <td>0.000000</td>\n",
       "      <td>0.0</td>\n",
       "      <td>-2.2</td>\n",
       "      <td>0.00</td>\n",
       "      <td>0.0</td>\n",
       "    </tr>\n",
       "    <tr>\n",
       "      <th>10</th>\n",
       "      <td>18.8</td>\n",
       "      <td>0.0</td>\n",
       "      <td>0.0</td>\n",
       "      <td>0.0</td>\n",
       "      <td>0.0</td>\n",
       "      <td>0.000000</td>\n",
       "      <td>0.0</td>\n",
       "      <td>0.0</td>\n",
       "      <td>0.00</td>\n",
       "      <td>0.0</td>\n",
       "    </tr>\n",
       "    <tr>\n",
       "      <th>11</th>\n",
       "      <td>0.0</td>\n",
       "      <td>0.0</td>\n",
       "      <td>0.0</td>\n",
       "      <td>0.0</td>\n",
       "      <td>0.0</td>\n",
       "      <td>0.000000</td>\n",
       "      <td>0.0</td>\n",
       "      <td>0.0</td>\n",
       "      <td>24.95</td>\n",
       "      <td>0.0</td>\n",
       "    </tr>\n",
       "    <tr>\n",
       "      <th>12</th>\n",
       "      <td>0.0</td>\n",
       "      <td>0.0</td>\n",
       "      <td>0.0</td>\n",
       "      <td>0.0</td>\n",
       "      <td>0.0</td>\n",
       "      <td>0.000000</td>\n",
       "      <td>0.0</td>\n",
       "      <td>0.0</td>\n",
       "      <td>0.00</td>\n",
       "      <td>0.0</td>\n",
       "    </tr>\n",
       "    <tr>\n",
       "      <th>13</th>\n",
       "      <td>0.0</td>\n",
       "      <td>0.0</td>\n",
       "      <td>0.0</td>\n",
       "      <td>0.0</td>\n",
       "      <td>16.9</td>\n",
       "      <td>0.000000</td>\n",
       "      <td>0.0</td>\n",
       "      <td>0.0</td>\n",
       "      <td>0.00</td>\n",
       "      <td>0.0</td>\n",
       "    </tr>\n",
       "    <tr>\n",
       "      <th>14</th>\n",
       "      <td>11.5</td>\n",
       "      <td>7.6</td>\n",
       "      <td>10.1</td>\n",
       "      <td>11.8</td>\n",
       "      <td>10.0</td>\n",
       "      <td>14.166667</td>\n",
       "      <td>11.8</td>\n",
       "      <td>12.9</td>\n",
       "      <td>8.85</td>\n",
       "      <td>9.0</td>\n",
       "    </tr>\n",
       "  </tbody>\n",
       "</table>\n",
       "</div>"
      ],
      "text/plain": [
       "옷 조합    기타 모자, 데님팬츠, 바람막이, 반팔 티, 운동화  기타 모자, 긴팔 티, 데님팬츠, 레더부츠, 코트  \\\n",
       "userId                                                              \n",
       "1                                0.0                          0.0   \n",
       "2                                0.0                          0.0   \n",
       "3                                0.0                          0.0   \n",
       "4                                0.0                          0.0   \n",
       "5                                0.0                          0.0   \n",
       "6                                0.0                          0.0   \n",
       "7                                0.0                          0.0   \n",
       "8                                0.0                          0.0   \n",
       "9                                0.0                          0.0   \n",
       "10                              18.8                          0.0   \n",
       "11                               0.0                          0.0   \n",
       "12                               0.0                          0.0   \n",
       "13                               0.0                          0.0   \n",
       "14                              11.5                          7.6   \n",
       "\n",
       "옷 조합    기타 모자, 바람막이, 반바지, 반팔 티, 운동화, 장목양말  기타 모자, 데님팬츠, 반팔 티, 운동화, 점퍼  \\\n",
       "userId                                                                  \n",
       "1                                     0.0                         0.0   \n",
       "2                                     0.0                         0.0   \n",
       "3                                    25.4                         0.0   \n",
       "4                                     0.0                         0.0   \n",
       "5                                     0.0                         0.0   \n",
       "6                                     0.0                         0.0   \n",
       "7                                     0.0                         0.0   \n",
       "8                                     0.0                         0.0   \n",
       "9                                     0.0                         0.0   \n",
       "10                                    0.0                         0.0   \n",
       "11                                    0.0                         0.0   \n",
       "12                                    0.0                         0.0   \n",
       "13                                    0.0                         0.0   \n",
       "14                                   10.1                        11.8   \n",
       "\n",
       "옷 조합    구두/로퍼, 기타 모자, 니트, 데님팬츠, 반팔 티, 아우터 없음  기타 모자, 긴팔 티, 데님팬츠, 레더부츠, 재킷  \\\n",
       "userId                                                                      \n",
       "1                                        0.0                     5.000000   \n",
       "2                                        0.0                     0.000000   \n",
       "3                                        0.0                     0.000000   \n",
       "4                                        0.0                     0.000000   \n",
       "5                                        0.0                     0.000000   \n",
       "6                                        0.0                     0.000000   \n",
       "7                                        0.0                     0.000000   \n",
       "8                                        0.0                     0.000000   \n",
       "9                                        0.0                     0.000000   \n",
       "10                                       0.0                     0.000000   \n",
       "11                                       0.0                     0.000000   \n",
       "12                                       0.0                     0.000000   \n",
       "13                                      16.9                     0.000000   \n",
       "14                                      10.0                    14.166667   \n",
       "\n",
       "옷 조합    기타 모자, 반팔 티, 아우터 없음, 운동화, 카고바지  기타 모자, 반팔 티, 아우터 없음, 운동화, 카고바지, 후드티  \\\n",
       "userId                                                                        \n",
       "1                                  0.0                                  0.0   \n",
       "2                                 24.5                                  0.0   \n",
       "3                                  0.0                                  0.0   \n",
       "4                                  0.0                                  0.0   \n",
       "5                                  0.0                                  0.0   \n",
       "6                                  0.0                                  0.0   \n",
       "7                                  0.0                                  0.0   \n",
       "8                                 27.7                                  0.0   \n",
       "9                                  0.0                                 -2.2   \n",
       "10                                 0.0                                  0.0   \n",
       "11                                 0.0                                  0.0   \n",
       "12                                 0.0                                  0.0   \n",
       "13                                 0.0                                  0.0   \n",
       "14                                11.8                                 12.9   \n",
       "\n",
       "옷 조합    구두/로퍼, 기타 모자, 데님팬츠, 반팔 티, 셔츠/블라우스, 아우터 없음  \\\n",
       "userId                                              \n",
       "1                                            0.00   \n",
       "2                                            0.00   \n",
       "3                                            0.00   \n",
       "4                                            0.00   \n",
       "5                                            0.00   \n",
       "6                                            0.00   \n",
       "7                                            0.00   \n",
       "8                                            0.00   \n",
       "9                                            0.00   \n",
       "10                                           0.00   \n",
       "11                                          24.95   \n",
       "12                                           0.00   \n",
       "13                                           0.00   \n",
       "14                                           8.85   \n",
       "\n",
       "옷 조합    구두/로퍼, 기타 모자, 긴팔 티, 데님팬츠, 재킷  \n",
       "userId                                \n",
       "1                                7.4  \n",
       "2                                0.0  \n",
       "3                                0.0  \n",
       "4                                0.0  \n",
       "5                                0.0  \n",
       "6                                0.0  \n",
       "7                                0.0  \n",
       "8                                0.0  \n",
       "9                                0.0  \n",
       "10                               0.0  \n",
       "11                               0.0  \n",
       "12                               0.0  \n",
       "13                               0.0  \n",
       "14                               9.0  "
      ]
     },
     "execution_count": 46,
     "metadata": {},
     "output_type": "execute_result"
    }
   ],
   "source": [
    "df_predict"
   ]
  },
  {
   "cell_type": "code",
   "execution_count": 47,
   "metadata": {},
   "outputs": [
    {
     "data": {
      "text/plain": [
       "userId\n",
       "1     0\n",
       "2     0\n",
       "3     0\n",
       "4     0\n",
       "5     0\n",
       "6     0\n",
       "7     0\n",
       "8     0\n",
       "9     0\n",
       "10    0\n",
       "11    0\n",
       "12    0\n",
       "13    0\n",
       "14    4\n",
       "Name: 기타 모자, 긴팔 티, 데님팬츠, 레더부츠, 코트, dtype: int64"
      ]
     },
     "execution_count": 47,
     "metadata": {},
     "output_type": "execute_result"
    }
   ],
   "source": [
    "UI_count['기타 모자, 긴팔 티, 데님팬츠, 레더부츠, 코트']"
   ]
  },
  {
   "cell_type": "code",
   "execution_count": 48,
   "metadata": {},
   "outputs": [
    {
     "data": {
      "text/html": [
       "<div>\n",
       "<style scoped>\n",
       "    .dataframe tbody tr th:only-of-type {\n",
       "        vertical-align: middle;\n",
       "    }\n",
       "\n",
       "    .dataframe tbody tr th {\n",
       "        vertical-align: top;\n",
       "    }\n",
       "\n",
       "    .dataframe thead th {\n",
       "        text-align: right;\n",
       "    }\n",
       "</style>\n",
       "<table border=\"1\" class=\"dataframe\">\n",
       "  <thead>\n",
       "    <tr style=\"text-align: right;\">\n",
       "      <th></th>\n",
       "      <th>userId</th>\n",
       "      <th>작성일</th>\n",
       "      <th>평균기온(°C)</th>\n",
       "      <th>옷 조합</th>\n",
       "    </tr>\n",
       "  </thead>\n",
       "  <tbody>\n",
       "    <tr>\n",
       "      <th>1226</th>\n",
       "      <td>14</td>\n",
       "      <td>2023-11-05</td>\n",
       "      <td>17.3</td>\n",
       "      <td>기타 모자, 긴팔 티, 데님팬츠, 레더부츠, 코트</td>\n",
       "    </tr>\n",
       "    <tr>\n",
       "      <th>1234</th>\n",
       "      <td>14</td>\n",
       "      <td>2023-11-22</td>\n",
       "      <td>9.5</td>\n",
       "      <td>기타 모자, 긴팔 티, 데님팬츠, 레더부츠, 코트</td>\n",
       "    </tr>\n",
       "    <tr>\n",
       "      <th>1239</th>\n",
       "      <td>14</td>\n",
       "      <td>2023-11-29</td>\n",
       "      <td>-1.4</td>\n",
       "      <td>기타 모자, 긴팔 티, 데님팬츠, 레더부츠, 코트</td>\n",
       "    </tr>\n",
       "    <tr>\n",
       "      <th>1255</th>\n",
       "      <td>14</td>\n",
       "      <td>2024-01-05</td>\n",
       "      <td>5.0</td>\n",
       "      <td>기타 모자, 긴팔 티, 데님팬츠, 레더부츠, 코트</td>\n",
       "    </tr>\n",
       "  </tbody>\n",
       "</table>\n",
       "</div>"
      ],
      "text/plain": [
       "      userId        작성일  평균기온(°C)                         옷 조합\n",
       "1226      14 2023-11-05      17.3  기타 모자, 긴팔 티, 데님팬츠, 레더부츠, 코트\n",
       "1234      14 2023-11-22       9.5  기타 모자, 긴팔 티, 데님팬츠, 레더부츠, 코트\n",
       "1239      14 2023-11-29      -1.4  기타 모자, 긴팔 티, 데님팬츠, 레더부츠, 코트\n",
       "1255      14 2024-01-05       5.0  기타 모자, 긴팔 티, 데님팬츠, 레더부츠, 코트"
      ]
     },
     "execution_count": 48,
     "metadata": {},
     "output_type": "execute_result"
    }
   ],
   "source": [
    "df_combtest[df_combtest['옷 조합'].str.contains('기타 모자, 긴팔 티, 데님팬츠, 레더부츠, 코트')]"
   ]
  }
 ],
 "metadata": {
  "kernelspec": {
   "display_name": "ondoset",
   "language": "python",
   "name": "python3"
  },
  "language_info": {
   "codemirror_mode": {
    "name": "ipython",
    "version": 3
   },
   "file_extension": ".py",
   "mimetype": "text/x-python",
   "name": "python",
   "nbconvert_exporter": "python",
   "pygments_lexer": "ipython3",
   "version": "3.9.18"
  }
 },
 "nbformat": 4,
 "nbformat_minor": 2
}
