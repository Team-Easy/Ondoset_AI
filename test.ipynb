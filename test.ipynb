{
 "cells": [
  {
   "cell_type": "code",
   "execution_count": 1,
   "metadata": {},
   "outputs": [
    {
     "name": "stderr",
     "output_type": "stream",
     "text": [
      "2024-04-18 18:28:18.458023: I tensorflow/core/util/port.cc:113] oneDNN custom operations are on. You may see slightly different numerical results due to floating-point round-off errors from different computation orders. To turn them off, set the environment variable `TF_ENABLE_ONEDNN_OPTS=0`.\n",
      "2024-04-18 18:28:18.585674: E external/local_xla/xla/stream_executor/cuda/cuda_dnn.cc:9261] Unable to register cuDNN factory: Attempting to register factory for plugin cuDNN when one has already been registered\n",
      "2024-04-18 18:28:18.585766: E external/local_xla/xla/stream_executor/cuda/cuda_fft.cc:607] Unable to register cuFFT factory: Attempting to register factory for plugin cuFFT when one has already been registered\n",
      "2024-04-18 18:28:18.601643: E external/local_xla/xla/stream_executor/cuda/cuda_blas.cc:1515] Unable to register cuBLAS factory: Attempting to register factory for plugin cuBLAS when one has already been registered\n",
      "2024-04-18 18:28:18.653840: I tensorflow/core/platform/cpu_feature_guard.cc:182] This TensorFlow binary is optimized to use available CPU instructions in performance-critical operations.\n",
      "To enable the following instructions: AVX2 AVX_VNNI FMA, in other operations, rebuild TensorFlow with the appropriate compiler flags.\n",
      "2024-04-18 18:28:19.489727: W tensorflow/compiler/tf2tensorrt/utils/py_utils.cc:38] TF-TRT Warning: Could not find TensorRT\n"
     ]
    }
   ],
   "source": [
    "import tensorflow as tf\n",
    "import keras\n",
    "import numpy as np\n",
    "import matplotlib.pyplot as plt"
   ]
  },
  {
   "cell_type": "code",
   "execution_count": 2,
   "metadata": {},
   "outputs": [
    {
     "name": "stderr",
     "output_type": "stream",
     "text": [
      "2024-04-18 17:48:58.615386: I external/local_xla/xla/stream_executor/cuda/cuda_executor.cc:887] could not open file to read NUMA node: /sys/bus/pci/devices/0000:01:00.0/numa_node\n",
      "Your kernel may have been built without NUMA support.\n",
      "2024-04-18 17:48:58.819084: I external/local_xla/xla/stream_executor/cuda/cuda_executor.cc:887] could not open file to read NUMA node: /sys/bus/pci/devices/0000:01:00.0/numa_node\n",
      "Your kernel may have been built without NUMA support.\n",
      "2024-04-18 17:48:58.819163: I external/local_xla/xla/stream_executor/cuda/cuda_executor.cc:887] could not open file to read NUMA node: /sys/bus/pci/devices/0000:01:00.0/numa_node\n",
      "Your kernel may have been built without NUMA support.\n"
     ]
    },
    {
     "data": {
      "text/plain": [
       "[PhysicalDevice(name='/physical_device:GPU:0', device_type='GPU')]"
      ]
     },
     "execution_count": 2,
     "metadata": {},
     "output_type": "execute_result"
    }
   ],
   "source": [
    "gpu = tf.config.experimental.list_physical_devices('GPU')\n",
    "gpu"
   ]
  },
  {
   "cell_type": "code",
   "execution_count": 2,
   "metadata": {},
   "outputs": [],
   "source": [
    "(train_images, train_labels), (test_images, test_labels) = keras.datasets.mnist.load_data() # MNIST 에 있는 훈련 세트와 테스트 세트를 가져와 저장\n",
    "\n",
    "\n",
    "train_images = train_images.reshape((60000, 28 * 28))\n",
    "# 60000, 784\n",
    "train_images = train_images.astype(\"float32\") / 255\n",
    "\n",
    "train_images, val_images = train_images[:50000], train_images[50000:]\n",
    "train_labels, val_labels = train_labels[:50000], train_labels[50000:]\n",
    "\n",
    "test_images = test_images.reshape((10000, 28 * 28))\n",
    "test_images = test_images.astype(\"float32\") / 255"
   ]
  },
  {
   "cell_type": "code",
   "execution_count": 4,
   "metadata": {},
   "outputs": [
    {
     "name": "stderr",
     "output_type": "stream",
     "text": [
      "2024-04-18 17:48:59.207765: I external/local_xla/xla/stream_executor/cuda/cuda_executor.cc:887] could not open file to read NUMA node: /sys/bus/pci/devices/0000:01:00.0/numa_node\n",
      "Your kernel may have been built without NUMA support.\n",
      "2024-04-18 17:48:59.207902: I external/local_xla/xla/stream_executor/cuda/cuda_executor.cc:887] could not open file to read NUMA node: /sys/bus/pci/devices/0000:01:00.0/numa_node\n",
      "Your kernel may have been built without NUMA support.\n",
      "2024-04-18 17:48:59.207939: I external/local_xla/xla/stream_executor/cuda/cuda_executor.cc:887] could not open file to read NUMA node: /sys/bus/pci/devices/0000:01:00.0/numa_node\n",
      "Your kernel may have been built without NUMA support.\n",
      "2024-04-18 17:48:59.661977: I external/local_xla/xla/stream_executor/cuda/cuda_executor.cc:887] could not open file to read NUMA node: /sys/bus/pci/devices/0000:01:00.0/numa_node\n",
      "Your kernel may have been built without NUMA support.\n",
      "2024-04-18 17:48:59.662043: I external/local_xla/xla/stream_executor/cuda/cuda_executor.cc:887] could not open file to read NUMA node: /sys/bus/pci/devices/0000:01:00.0/numa_node\n",
      "Your kernel may have been built without NUMA support.\n",
      "2024-04-18 17:48:59.662049: I tensorflow/core/common_runtime/gpu/gpu_device.cc:2022] Could not identify NUMA node of platform GPU id 0, defaulting to 0.  Your kernel may not have been built with NUMA support.\n",
      "2024-04-18 17:48:59.662076: I external/local_xla/xla/stream_executor/cuda/cuda_executor.cc:887] could not open file to read NUMA node: /sys/bus/pci/devices/0000:01:00.0/numa_node\n",
      "Your kernel may have been built without NUMA support.\n",
      "2024-04-18 17:48:59.662101: I tensorflow/core/common_runtime/gpu/gpu_device.cc:1929] Created device /job:localhost/replica:0/task:0/device:GPU:0 with 3600 MB memory:  -> device: 0, name: NVIDIA GeForce RTX 3060 Laptop GPU, pci bus id: 0000:01:00.0, compute capability: 8.6\n"
     ]
    }
   ],
   "source": [
    "model = keras.Sequential([\n",
    "    keras.layers.Dense(512, activation='relu'),\n",
    "    keras.layers.Dense(10, activation='softmax')\n",
    "])"
   ]
  },
  {
   "cell_type": "code",
   "execution_count": 5,
   "metadata": {},
   "outputs": [],
   "source": [
    "model.compile(optimizer=\"rmsprop\", \n",
    "              loss=\"sparse_categorical_crossentropy\",\n",
    "              metrics=[\"accuracy\"])"
   ]
  },
  {
   "cell_type": "code",
   "execution_count": 8,
   "metadata": {},
   "outputs": [
    {
     "name": "stdout",
     "output_type": "stream",
     "text": [
      "Epoch 1/5\n",
      "391/391 [==============================] - 2s 5ms/step - loss: 0.0074 - accuracy: 0.9985 - val_loss: 0.0743 - val_accuracy: 0.9808\n",
      "Epoch 2/5\n",
      "391/391 [==============================] - 2s 5ms/step - loss: 0.0052 - accuracy: 0.9989 - val_loss: 0.0787 - val_accuracy: 0.9790\n",
      "Epoch 3/5\n",
      "391/391 [==============================] - 2s 5ms/step - loss: 0.0035 - accuracy: 0.9994 - val_loss: 0.0730 - val_accuracy: 0.9816\n",
      "Epoch 4/5\n",
      "391/391 [==============================] - 2s 5ms/step - loss: 0.0028 - accuracy: 0.9996 - val_loss: 0.0793 - val_accuracy: 0.9807\n",
      "Epoch 5/5\n",
      "391/391 [==============================] - 2s 5ms/step - loss: 0.0016 - accuracy: 0.9999 - val_loss: 0.0751 - val_accuracy: 0.9826\n"
     ]
    }
   ],
   "source": [
    "history = model.fit(train_images, train_labels, epochs=5, batch_size=128, validation_data=(val_images, val_labels))\n",
    "# 모델을 train_images와 train_labels를 이용하여 훈련시킴."
   ]
  },
  {
   "cell_type": "code",
   "execution_count": 9,
   "metadata": {},
   "outputs": [
    {
     "data": {
      "text/plain": [
       "{'loss': [0.007382954005151987,\n",
       "  0.005209994036704302,\n",
       "  0.0035154959186911583,\n",
       "  0.0028111410792917013,\n",
       "  0.001619325252249837],\n",
       " 'accuracy': [0.9984999895095825,\n",
       "  0.9988999962806702,\n",
       "  0.9994400143623352,\n",
       "  0.9995999932289124,\n",
       "  0.9998599886894226],\n",
       " 'val_loss': [0.07429994642734528,\n",
       "  0.07867036014795303,\n",
       "  0.0729958638548851,\n",
       "  0.07927051931619644,\n",
       "  0.07505975663661957],\n",
       " 'val_accuracy': [0.9807999730110168,\n",
       "  0.9789999723434448,\n",
       "  0.9815999865531921,\n",
       "  0.9807000160217285,\n",
       "  0.9825999736785889]}"
      ]
     },
     "execution_count": 9,
     "metadata": {},
     "output_type": "execute_result"
    }
   ],
   "source": [
    "history.history"
   ]
  },
  {
   "cell_type": "code",
   "execution_count": 10,
   "metadata": {},
   "outputs": [
    {
     "data": {
      "text/plain": [
       "[{'type': 'train_loss', 'epoch': 1, 'value': 0.01879442296922207},\n",
       " {'type': 'train_loss', 'epoch': 2, 'value': 0.014016644097864628},\n",
       " {'type': 'train_loss', 'epoch': 3, 'value': 0.011360413394868374},\n",
       " {'type': 'train_loss', 'epoch': 4, 'value': 0.008034272119402885},\n",
       " {'type': 'train_loss', 'epoch': 5, 'value': 0.005908384919166565},\n",
       " {'type': 'train_accuracy', 'epoch': 1, 'value': 0.9947400093078613},\n",
       " {'type': 'train_accuracy', 'epoch': 2, 'value': 0.9961000084877014},\n",
       " {'type': 'train_accuracy', 'epoch': 3, 'value': 0.9968000054359436},\n",
       " {'type': 'train_accuracy', 'epoch': 4, 'value': 0.9976599812507629},\n",
       " {'type': 'train_accuracy', 'epoch': 5, 'value': 0.9986000061035156},\n",
       " {'type': 'validation_loss', 'epoch': 1, 'value': 0.020174838602542877},\n",
       " {'type': 'validation_loss', 'epoch': 2, 'value': 0.021637488156557083},\n",
       " {'type': 'validation_loss', 'epoch': 3, 'value': 0.0246022567152977},\n",
       " {'type': 'validation_loss', 'epoch': 4, 'value': 0.02715890109539032},\n",
       " {'type': 'validation_loss', 'epoch': 5, 'value': 0.033388469368219376},\n",
       " {'type': 'validation_accuracy', 'epoch': 1, 'value': 0.9948999881744385},\n",
       " {'type': 'validation_accuracy', 'epoch': 2, 'value': 0.9936000108718872},\n",
       " {'type': 'validation_accuracy', 'epoch': 3, 'value': 0.9927999973297119},\n",
       " {'type': 'validation_accuracy', 'epoch': 4, 'value': 0.993399977684021},\n",
       " {'type': 'validation_accuracy', 'epoch': 5, 'value': 0.9915000200271606}]"
      ]
     },
     "execution_count": 10,
     "metadata": {},
     "output_type": "execute_result"
    }
   ],
   "source": [
    "data = {\n",
    "    'loss': [0.01879442296922207, 0.014016644097864628, 0.011360413394868374, 0.008034272119402885, 0.005908384919166565],\n",
    "    'accuracy': [0.9947400093078613, 0.9961000084877014, 0.9968000054359436, 0.9976599812507629, 0.9986000061035156],\n",
    "    'val_loss': [0.020174838602542877, 0.021637488156557083, 0.0246022567152977, 0.02715890109539032, 0.033388469368219376],\n",
    "    'val_accuracy': [0.9948999881744385, 0.9936000108718872, 0.9927999973297119, 0.993399977684021, 0.9915000200271606]\n",
    "}\n",
    "\n",
    "# 변환된 데이터를 담을 리스트\n",
    "transformed_data = []\n",
    "\n",
    "# 딕셔너리의 키를 반복하여 데이터를 변환\n",
    "for key, values in data.items():\n",
    "    if 'accuracy' in key:\n",
    "        metric_type = 'accuracy'\n",
    "    elif 'loss' in key:\n",
    "        metric_type = 'loss'\n",
    "     \n",
    "    if 'val_' in key:\n",
    "        data_type = 'validation'\n",
    "    else:\n",
    "        data_type = 'train'\n",
    "    \n",
    "    for epoch, value in enumerate(values, start=1):\n",
    "        transformed_data.append({\n",
    "            'type': f\"{data_type}_{metric_type}\",\n",
    "            'epoch': epoch,\n",
    "            'value': value\n",
    "        })\n",
    "\n",
    "# 결과 출력\n",
    "transformed_data"
   ]
  },
  {
   "cell_type": "code",
   "execution_count": 14,
   "metadata": {},
   "outputs": [
    {
     "data": {
      "image/png": "[encoded data removed]",
      "text/plain": [
       "<Figure size 640x480 with 1 Axes>"
      ]
     },
     "metadata": {},
     "output_type": "display_data"
    }
   ],
   "source": [
    "history_dict = history.history\n",
    "loss_values = history_dict[\"loss\"]\n",
    "val_loss_values = history_dict[\"val_loss\"]\n",
    "epochs = range(1, len(loss_values) + 1)\n",
    "plt.plot(epochs, loss_values, \"bo\", label=\"Training loss\")\n",
    "plt.plot(epochs, val_loss_values, \"b\", label=\"Validation loss\")\n",
    "plt.title(\"Training and validation loss\")\n",
    "plt.xlabel(\"Epochs\")\n",
    "plt.ylabel(\"Loss\")\n",
    "plt.legend()\n",
    "plt.show()\n",
    "# history에 저장된 데이터를 matplotlib을 이용하여 시각화한다.\n",
    "# 그래프의 y축은 loss"
   ]
  }
 ],
 "metadata": {
  "kernelspec": {
   "display_name": "ondoset",
   "language": "python",
   "name": "python3"
  },
  "language_info": {
   "codemirror_mode": {
    "name": "ipython",
    "version": 3
   },
   "file_extension": ".py",
   "mimetype": "text/x-python",
   "name": "python",
   "nbconvert_exporter": "python",
   "pygments_lexer": "ipython3",
   "version": "3.9.18"
  }
 },
 "nbformat": 4,
 "nbformat_minor": 2
}
